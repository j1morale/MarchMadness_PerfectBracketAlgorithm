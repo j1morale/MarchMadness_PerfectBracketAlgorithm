{
 "cells": [
  {
   "cell_type": "code",
   "execution_count": 43,
   "metadata": {},
   "outputs": [
    {
     "data": {
      "text/plain": [
       "<bound method DataFrame.info of     Unnamed: 0_level_0      Unnamed: 1_level_0 Overall                        \\\n",
       "                    Rk                  School       G   W   L  W-L%     SRS   \n",
       "0                    1  Abilene Christian NCAA      34  27   7  .794   -1.91   \n",
       "1                    2               Air Force      32  14  18  .438   -4.28   \n",
       "2                    3                   Akron      33  17  16  .515    4.86   \n",
       "3                    4             Alabama A&M      32   5  27  .156  -19.23   \n",
       "4                    5      Alabama-Birmingham      35  20  15  .571    0.36   \n",
       "..                 ...                     ...     ...  ..  ..   ...     ...   \n",
       "382                349            Wright State      35  21  14  .600    3.29   \n",
       "383                350                 Wyoming      32   8  24  .250   -9.75   \n",
       "384                351                  Xavier      35  19  16  .543    9.61   \n",
       "385                352               Yale NCAA      30  22   8  .733    5.52   \n",
       "386                353        Youngstown State      32  12  20  .375   -7.78   \n",
       "\n",
       "           Unnamed: 8_level_0 Conf.  ... Totals                             \\\n",
       "       SOS Unnamed: 8_level_1     W  ...     FT  FTA   FT%  ORB   TRB  AST   \n",
       "0    -7.34                NaN    14  ...    457  642  .712  325  1110  525   \n",
       "1     0.24                NaN     8  ...    341  503  .678  253  1077  434   \n",
       "2     1.09                NaN     8  ...    380  539  .705  312  1204  399   \n",
       "3    -8.38                NaN     4  ...    284  453  .627  314  1032  385   \n",
       "4    -1.52                NaN    10  ...    424  630  .673  367  1279  401   \n",
       "..     ...                ...   ...  ...    ...  ...   ...  ...   ...  ...   \n",
       "382  -0.89                NaN    13  ...    510  692  .737  382  1229  484   \n",
       "383   0.19                NaN     4  ...    477  660  .723  167   983  331   \n",
       "384   8.06                NaN     9  ...    437  644  .679  371  1281  519   \n",
       "385  -1.24                NaN    10  ...    411  557  .738  259  1157  503   \n",
       "386  -2.05                NaN     8  ...    354  505  .701  418  1207  449   \n",
       "\n",
       "                         \n",
       "     STL  BLK  TOV   PF  \n",
       "0    297   93  407  635  \n",
       "1    154   57  423  543  \n",
       "2    185  106  388  569  \n",
       "3    234   50  487  587  \n",
       "4    218   82  399  578  \n",
       "..   ...  ...  ...  ...  \n",
       "382  214   72  402  545  \n",
       "383  176   88  450  588  \n",
       "384  190  128  450  550  \n",
       "385  177  131  392  510  \n",
       "386  210  115  423  656  \n",
       "\n",
       "[387 rows x 38 columns]>"
      ]
     },
     "execution_count": 43,
     "metadata": {},
     "output_type": "execute_result"
    }
   ],
   "source": [
    "import pandas as pd\n",
    "import numpy as np\n",
    "import matplotlib as plt\n",
    "import seaborn as sns\n",
    "\n",
    "df = pd.read_html('https://www.sports-reference.com/cbb/seasons/2019-school-stats.html#basic_school_stats')\n",
    "team_data = df[0]\n",
    "team_data.info\n"
   ]
  },
  {
   "cell_type": "code",
   "execution_count": 44,
   "metadata": {},
   "outputs": [
    {
     "data": {
      "text/plain": [
       "<bound method DataFrame.info of    Unnamed: 1_level_0 Conference            Overall            PTS/G        \\\n",
       "Rk             School          W   L   W-L%       W   L   W-L%   Own   Opp   \n",
       "1            Michigan         14   3  0.824      23   5  0.821  75.8  65.1   \n",
       "2            Illinois         16   4  0.800      24   7  0.774  80.5  68.6   \n",
       "3                Iowa         14   6  0.700      22   9  0.710  83.7  72.7   \n",
       "4              Purdue         13   6  0.684      18  10  0.643  71.0  66.7   \n",
       "5          Ohio State         12   8  0.600      21  10  0.677  77.2  71.1   \n",
       "6           Wisconsin         10  10  0.500      18  13  0.581  69.9  64.6   \n",
       "6             Rutgers         10  10  0.500      16  12  0.571  69.3  67.6   \n",
       "8            Maryland          9  11  0.450      17  14  0.548  68.9  65.6   \n",
       "8      Michigan State          9  11  0.450      15  13  0.536  69.4  71.1   \n",
       "10            Indiana          7  12  0.368      12  15  0.444  69.7  69.4   \n",
       "10         Penn State          7  12  0.368      11  14  0.440  72.6  73.0   \n",
       "12       Northwestern          6  13  0.316       9  15  0.375  70.3  70.0   \n",
       "13          Minnesota          6  14  0.300      14  15  0.483  72.5  73.2   \n",
       "14           Nebraska          3  16  0.158       7  20  0.259  70.0  74.2   \n",
       "\n",
       "   Advanced                               Unnamed: 12_level_0  \n",
       "Rk      SRS   SOS                                       Notes  \n",
       "1      22.0  11.2       NCAA Tournament; Reg. Season Champion  \n",
       "2      23.2  11.3  NCAA Tournament; Conf. Tournament Champion  \n",
       "3      21.4  10.4                             NCAA Tournament  \n",
       "4      15.5  11.2                             NCAA Tournament  \n",
       "5      18.3  12.2                             NCAA Tournament  \n",
       "6      17.2  11.9                             NCAA Tournament  \n",
       "6      14.1  12.5                             NCAA Tournament  \n",
       "8      13.9  12.0                             NCAA Tournament  \n",
       "8       9.8  11.5                             NCAA Tournament  \n",
       "10     12.8  12.5                                         NaN  \n",
       "10     13.5  13.9                                         NaN  \n",
       "12      9.7  11.8                                         NaN  \n",
       "13     11.0  11.7                                         NaN  \n",
       "14      6.1  12.3                                         NaN  >"
      ]
     },
     "execution_count": 44,
     "metadata": {},
     "output_type": "execute_result"
    }
   ],
   "source": [
    "big_ten_basic = pd.read_html('https://www.sports-reference.com/cbb/conferences/big-ten/2021.html#standings', index_col=0)\n",
    "big_ten_conf_stats = big_ten_basic[0]\n",
    "big_ten_conf_stats.info"
   ]
  },
  {
   "cell_type": "code",
   "execution_count": 45,
   "metadata": {},
   "outputs": [
    {
     "data": {
      "text/plain": [
       "<bound method DataFrame.info of    Unnamed: 1_level_0 Conference            Overall            PTS/G        \\\n",
       "Rk             School          W   L   W-L%       W   L   W-L%   Own   Opp   \n",
       "1            Michigan         14   3  0.824      23   5  0.821  75.8  65.1   \n",
       "2            Illinois         16   4  0.800      24   7  0.774  80.5  68.6   \n",
       "3                Iowa         14   6  0.700      22   9  0.710  83.7  72.7   \n",
       "4              Purdue         13   6  0.684      18  10  0.643  71.0  66.7   \n",
       "5          Ohio State         12   8  0.600      21  10  0.677  77.2  71.1   \n",
       "6           Wisconsin         10  10  0.500      18  13  0.581  69.9  64.6   \n",
       "6             Rutgers         10  10  0.500      16  12  0.571  69.3  67.6   \n",
       "8            Maryland          9  11  0.450      17  14  0.548  68.9  65.6   \n",
       "8      Michigan State          9  11  0.450      15  13  0.536  69.4  71.1   \n",
       "10            Indiana          7  12  0.368      12  15  0.444  69.7  69.4   \n",
       "10         Penn State          7  12  0.368      11  14  0.440  72.6  73.0   \n",
       "12       Northwestern          6  13  0.316       9  15  0.375  70.3  70.0   \n",
       "13          Minnesota          6  14  0.300      14  15  0.483  72.5  73.2   \n",
       "14           Nebraska          3  16  0.158       7  20  0.259  70.0  74.2   \n",
       "\n",
       "   Advanced                               Unnamed: 12_level_0  \n",
       "Rk      SRS   SOS                                       Notes  \n",
       "1      22.0  11.2       NCAA Tournament; Reg. Season Champion  \n",
       "2      23.2  11.3  NCAA Tournament; Conf. Tournament Champion  \n",
       "3      21.4  10.4                             NCAA Tournament  \n",
       "4      15.5  11.2                             NCAA Tournament  \n",
       "5      18.3  12.2                             NCAA Tournament  \n",
       "6      17.2  11.9                             NCAA Tournament  \n",
       "6      14.1  12.5                             NCAA Tournament  \n",
       "8      13.9  12.0                             NCAA Tournament  \n",
       "8       9.8  11.5                             NCAA Tournament  \n",
       "10     12.8  12.5                                         NaN  \n",
       "10     13.5  13.9                                         NaN  \n",
       "12      9.7  11.8                                         NaN  \n",
       "13     11.0  11.7                                         NaN  \n",
       "14      6.1  12.3                                         NaN  >"
      ]
     },
     "execution_count": 45,
     "metadata": {},
     "output_type": "execute_result"
    }
   ],
   "source": [
    "american_athletic_basic = pd.read_html('https://www.sports-reference.com/cbb/conferences/big-ten/2021.html#standings', index_col=0)\n",
    "american_athletic_conf_stats = american_athletic_basic[0]\n",
    "american_athletic_conf_stats.info"
   ]
  },
  {
   "cell_type": "code",
   "execution_count": 46,
   "metadata": {},
   "outputs": [
    {
     "data": {
      "text/plain": [
       "<bound method DataFrame.info of    Unnamed: 0_level_0    Unnamed: 1_level_0 Conference            Overall      \\\n",
       "                   Rk                School          W   L   W-L%       W   L   \n",
       "0                   1              Virginia         13   4  0.765      18   7   \n",
       "1                   2         Florida State         11   4  0.733      18   7   \n",
       "2                   3         Virginia Tech          9   4  0.692      15   7   \n",
       "3                   4          Georgia Tech         11   6  0.647      17   9   \n",
       "4                   5               Clemson         10   6  0.625      16   8   \n",
       "5                   5        North Carolina         10   6  0.625      18  11   \n",
       "6                   7            Louisville          8   5  0.615      13   7   \n",
       "7                   8              Syracuse          9   7  0.563      18  10   \n",
       "8                   9  North Carolina State          9   8  0.529      14  11   \n",
       "9                  10                  Duke          9   9  0.500      13  11   \n",
       "10                 11            Notre Dame          7  11  0.389      11  15   \n",
       "11                 12            Pittsburgh          6  10  0.375      10  12   \n",
       "12                 13            Miami (FL)          4  15  0.211      10  17   \n",
       "13                 14           Wake Forest          3  15  0.167       6  16   \n",
       "14                 15        Boston College          2  11  0.154       4  16   \n",
       "\n",
       "          PTS/G       Advanced       \\\n",
       "     W-L%   Own   Opp      SRS  SOS   \n",
       "0   0.720  68.2  60.5     15.3  7.6   \n",
       "1   0.720  77.2  69.2     17.1  9.2   \n",
       "2   0.682  72.0  66.0     12.6  6.5   \n",
       "3   0.654  74.9  70.0     12.8  7.9   \n",
       "4   0.667  64.9  61.9     12.5  9.5   \n",
       "5   0.621  75.2  69.9     14.8  9.5   \n",
       "6   0.650  68.0  66.5     10.3  8.9   \n",
       "7   0.643  74.8  70.1     13.3  8.6   \n",
       "8   0.560  72.8  69.7      9.6  6.5   \n",
       "9   0.542  76.0  71.3     13.0  8.3   \n",
       "10  0.423  72.7  74.3      7.7  9.4   \n",
       "11  0.455  71.2  70.1      7.8  6.8   \n",
       "12  0.370  66.4  71.0      3.2  7.8   \n",
       "13  0.273  66.3  72.0      1.7  8.1   \n",
       "14  0.200  71.4  79.5      0.8  9.0   \n",
       "\n",
       "                           Unnamed: 12_level_0  \n",
       "                                         Notes  \n",
       "0        NCAA Tournament; Reg. Season Champion  \n",
       "1                              NCAA Tournament  \n",
       "2                              NCAA Tournament  \n",
       "3   NCAA Tournament; Conf. Tournament Champion  \n",
       "4                              NCAA Tournament  \n",
       "5                              NCAA Tournament  \n",
       "6                                          NaN  \n",
       "7                              NCAA Tournament  \n",
       "8                                          NaN  \n",
       "9                                          NaN  \n",
       "10                                         NaN  \n",
       "11                                         NaN  \n",
       "12                                         NaN  \n",
       "13                                         NaN  \n",
       "14                                         NaN  >"
      ]
     },
     "execution_count": 46,
     "metadata": {},
     "output_type": "execute_result"
    }
   ],
   "source": [
    "atlantic_coast_basic = pd.read_html('https://www.sports-reference.com/cbb/conferences/acc/2021.html#standings')\n",
    "atlantic_coast_conf_stats = atlantic_coast_basic[0]\n",
    "atlantic_coast_conf_stats.info"
   ]
  },
  {
   "cell_type": "code",
   "execution_count": 47,
   "metadata": {},
   "outputs": [
    {
     "data": {
      "text/plain": [
       "<bound method DataFrame.info of   Unnamed: 0_level_0         Unnamed: 1_level_0 Conference            Overall  \\\n",
       "                  Rk                     School          W   L   W-L%       W   \n",
       "0                  1  Maryland-Baltimore County         10   4  0.714      14   \n",
       "1                  1                    Vermont         10   4  0.714      10   \n",
       "2                  3              New Hampshire          9   6  0.600      10   \n",
       "3                  4                   Hartford          8   6  0.571      15   \n",
       "4                  5                Albany (NY)          6   6  0.500       7   \n",
       "5                  6       Massachusetts-Lowell          7   8  0.467      11   \n",
       "6                  7                Stony Brook          7   9  0.438       9   \n",
       "7                  8                       NJIT          6  10  0.375       7   \n",
       "8                  9                 Binghamton          4  10  0.286       4   \n",
       "9                 10                      Maine          2   6  0.250       2   \n",
       "\n",
       "             PTS/G       Advanced       \\\n",
       "    L   W-L%   Own   Opp      SRS  SOS   \n",
       "0   6  0.700  69.6  64.9     -1.0 -5.7   \n",
       "1   5  0.667  73.0  63.4      2.0 -7.6   \n",
       "2   9  0.526  67.3  66.6     -8.2 -6.7   \n",
       "3   9  0.625  65.4  63.9     -3.4 -4.9   \n",
       "4   9  0.438  69.4  68.7     -4.5 -5.2   \n",
       "5  12  0.478  68.5  70.9     -6.0 -3.6   \n",
       "6  14  0.391  66.2  65.6     -6.1 -4.7   \n",
       "7  12  0.368  66.1  70.2     -9.8 -5.7   \n",
       "8  14  0.222  65.4  72.3    -12.2 -5.4   \n",
       "9   7  0.222  53.1  64.6    -15.7 -4.2   \n",
       "\n",
       "                          Unnamed: 12_level_0  \n",
       "                                        Notes  \n",
       "0                        Reg. Season Champion  \n",
       "1                        Reg. Season Champion  \n",
       "2                                         NaN  \n",
       "3  NCAA Tournament; Conf. Tournament Champion  \n",
       "4                                         NaN  \n",
       "5                                         NaN  \n",
       "6                                         NaN  \n",
       "7                                         NaN  \n",
       "8                                         NaN  \n",
       "9                                         NaN  >"
      ]
     },
     "execution_count": 47,
     "metadata": {},
     "output_type": "execute_result"
    }
   ],
   "source": [
    "america_east_basic = pd.read_html('https://www.sports-reference.com/cbb/conferences/america-east/2021.html#standings')\n",
    "america_east_conf_stats = america_east_basic[0]\n",
    "america_east_conf_stats.info"
   ]
  },
  {
   "cell_type": "code",
   "execution_count": 48,
   "metadata": {},
   "outputs": [
    {
     "data": {
      "text/plain": [
       "<bound method DataFrame.info of    Unnamed: 0_level_0     Unnamed: 1_level_0 Conference            Overall  \\\n",
       "                   Rk                 School          W   L   W-L%       W   \n",
       "0                   1        St. Bonaventure         11   4  0.733      16   \n",
       "1                   2  Virginia Commonwealth         10   4  0.714      19   \n",
       "2                   3               Davidson          7   4  0.636      13   \n",
       "3                   4            Saint Louis          6   4  0.600      14   \n",
       "4                   4          Massachusetts          6   4  0.600       8   \n",
       "5                   6           George Mason          8   6  0.571      13   \n",
       "6                   7                 Dayton          9   7  0.563      14   \n",
       "7                   8               Richmond          6   5  0.545      14   \n",
       "8                   9               Duquesne          7   7  0.500       9   \n",
       "9                  10           Rhode Island          7  10  0.412      10   \n",
       "10                 11      George Washington          3   5  0.375       5   \n",
       "11                 12               La Salle          6  11  0.353       9   \n",
       "12                 13         Saint Joseph's          3   9  0.250       5   \n",
       "13                 14                Fordham          2  11  0.154       2   \n",
       "\n",
       "              PTS/G       Advanced       \\\n",
       "     L   W-L%   Own   Opp      SRS  SOS   \n",
       "0    5  0.762  70.0  61.1     13.4  4.5   \n",
       "1    7  0.731  69.0  62.7     11.3  4.8   \n",
       "2    9  0.591  71.8  64.1      9.0  3.4   \n",
       "3    7  0.667  75.0  65.4     11.8  2.2   \n",
       "4    7  0.533  76.7  73.0      4.8  1.0   \n",
       "5    9  0.591  71.3  69.9      1.9  0.5   \n",
       "6   10  0.583  69.8  67.8      6.3  4.3   \n",
       "7    9  0.609  74.7  69.0      9.0  5.0   \n",
       "8    9  0.500  66.9  67.1      2.3  2.5   \n",
       "9   15  0.400  71.4  71.1      5.3  4.9   \n",
       "10  12  0.294  68.1  72.3     -5.7 -1.6   \n",
       "11  16  0.360  68.1  73.5     -3.6  2.8   \n",
       "12  15  0.250  72.2  82.6     -4.6  5.9   \n",
       "13  12  0.143  51.8  66.6    -11.7  3.1   \n",
       "\n",
       "                                  Unnamed: 12_level_0  \n",
       "                                                Notes  \n",
       "0   NCAA Tournament; Reg. Season Champion; Conf. T...  \n",
       "1                                     NCAA Tournament  \n",
       "2                                                 NaN  \n",
       "3                                                 NaN  \n",
       "4                                                 NaN  \n",
       "5                                                 NaN  \n",
       "6                                                 NaN  \n",
       "7                                                 NaN  \n",
       "8                                                 NaN  \n",
       "9                                                 NaN  \n",
       "10                                                NaN  \n",
       "11                                                NaN  \n",
       "12                                                NaN  \n",
       "13                                                NaN  >"
      ]
     },
     "execution_count": 48,
     "metadata": {},
     "output_type": "execute_result"
    }
   ],
   "source": [
    "atlantic_10_basic = pd.read_html('https://www.sports-reference.com/cbb/conferences/atlantic-10/2021.html#standings')\n",
    "atlantic_10_conf_stats = atlantic_10_basic[0]\n",
    "atlantic_10_conf_stats.info"
   ]
  },
  {
   "cell_type": "code",
   "execution_count": 49,
   "metadata": {},
   "outputs": [
    {
     "data": {
      "text/plain": [
       "<bound method DataFrame.info of    Unnamed: 0_level_0     Unnamed: 1_level_0 Conference            Overall  \\\n",
       "                   Rk                 School          W   L   W-L%       W   \n",
       "0                   1        St. Bonaventure         11   4  0.733      16   \n",
       "1                   2  Virginia Commonwealth         10   4  0.714      19   \n",
       "2                   3               Davidson          7   4  0.636      13   \n",
       "3                   4            Saint Louis          6   4  0.600      14   \n",
       "4                   4          Massachusetts          6   4  0.600       8   \n",
       "5                   6           George Mason          8   6  0.571      13   \n",
       "6                   7                 Dayton          9   7  0.563      14   \n",
       "7                   8               Richmond          6   5  0.545      14   \n",
       "8                   9               Duquesne          7   7  0.500       9   \n",
       "9                  10           Rhode Island          7  10  0.412      10   \n",
       "10                 11      George Washington          3   5  0.375       5   \n",
       "11                 12               La Salle          6  11  0.353       9   \n",
       "12                 13         Saint Joseph's          3   9  0.250       5   \n",
       "13                 14                Fordham          2  11  0.154       2   \n",
       "\n",
       "              PTS/G       Advanced       \\\n",
       "     L   W-L%   Own   Opp      SRS  SOS   \n",
       "0    5  0.762  70.0  61.1     13.4  4.5   \n",
       "1    7  0.731  69.0  62.7     11.3  4.8   \n",
       "2    9  0.591  71.8  64.1      9.0  3.4   \n",
       "3    7  0.667  75.0  65.4     11.8  2.2   \n",
       "4    7  0.533  76.7  73.0      4.8  1.0   \n",
       "5    9  0.591  71.3  69.9      1.9  0.5   \n",
       "6   10  0.583  69.8  67.8      6.3  4.3   \n",
       "7    9  0.609  74.7  69.0      9.0  5.0   \n",
       "8    9  0.500  66.9  67.1      2.3  2.5   \n",
       "9   15  0.400  71.4  71.1      5.3  4.9   \n",
       "10  12  0.294  68.1  72.3     -5.7 -1.6   \n",
       "11  16  0.360  68.1  73.5     -3.6  2.8   \n",
       "12  15  0.250  72.2  82.6     -4.6  5.9   \n",
       "13  12  0.143  51.8  66.6    -11.7  3.1   \n",
       "\n",
       "                                  Unnamed: 12_level_0  \n",
       "                                                Notes  \n",
       "0   NCAA Tournament; Reg. Season Champion; Conf. T...  \n",
       "1                                     NCAA Tournament  \n",
       "2                                                 NaN  \n",
       "3                                                 NaN  \n",
       "4                                                 NaN  \n",
       "5                                                 NaN  \n",
       "6                                                 NaN  \n",
       "7                                                 NaN  \n",
       "8                                                 NaN  \n",
       "9                                                 NaN  \n",
       "10                                                NaN  \n",
       "11                                                NaN  \n",
       "12                                                NaN  \n",
       "13                                                NaN  >"
      ]
     },
     "execution_count": 49,
     "metadata": {},
     "output_type": "execute_result"
    }
   ],
   "source": [
    "atlantic_sun_basic = pd.read_html('https://www.sports-reference.com/cbb/conferences/atlantic-10/2021.html#standings')\n",
    "atlantic_sun_conf_stats = atlantic_sun_basic[0]\n",
    "atlantic_sun_conf_stats.info"
   ]
  },
  {
   "cell_type": "code",
   "execution_count": 50,
   "metadata": {},
   "outputs": [
    {
     "data": {
      "text/plain": [
       "<bound method DataFrame.info of   Unnamed: 0_level_0 Unnamed: 1_level_0 Conference            Overall      \\\n",
       "                  Rk             School          W   L   W-L%       W   L   \n",
       "0                  1             Baylor         13   1  0.929      28   2   \n",
       "1                  2             Kansas         12   6  0.667      21   9   \n",
       "2                  3              Texas         11   6  0.647      19   8   \n",
       "3                  3      West Virginia         11   6  0.647      19  10   \n",
       "4                  5     Oklahoma State         11   7  0.611      21   9   \n",
       "5                  6         Texas Tech          9   8  0.529      18  11   \n",
       "6                  6           Oklahoma          9   8  0.529      16  11   \n",
       "7                  8    Texas Christian          5  11  0.313      12  14   \n",
       "8                  9       Kansas State          4  14  0.222       9  20   \n",
       "9                 10         Iowa State          0  18  0.000       2  22   \n",
       "\n",
       "         PTS/G       Advanced        \\\n",
       "    W-L%   Own   Opp      SRS   SOS   \n",
       "0  0.933  82.9  65.5     24.8   7.4   \n",
       "1  0.700  73.0  67.0     15.3  10.3   \n",
       "2  0.704  74.4  68.2     15.5   9.4   \n",
       "3  0.655  77.3  72.0     15.4  10.1   \n",
       "4  0.700  76.6  72.7     13.6   9.8   \n",
       "5  0.621  72.5  63.2     16.6   7.3   \n",
       "6  0.593  74.5  69.9     13.5   8.9   \n",
       "7  0.462  66.8  71.2      2.6   7.0   \n",
       "8  0.310  61.8  70.2      0.8   9.0   \n",
       "9  0.083  65.6  76.7     -0.7  10.4   \n",
       "\n",
       "                                 Unnamed: 12_level_0  \n",
       "                                               Notes  \n",
       "0  NCAA Tournament; Reg. Season Champion; NCAA FF...  \n",
       "1                                    NCAA Tournament  \n",
       "2         NCAA Tournament; Conf. Tournament Champion  \n",
       "3                                    NCAA Tournament  \n",
       "4                                    NCAA Tournament  \n",
       "5                                    NCAA Tournament  \n",
       "6                                    NCAA Tournament  \n",
       "7                                                NaN  \n",
       "8                                                NaN  \n",
       "9                                                NaN  >"
      ]
     },
     "execution_count": 50,
     "metadata": {},
     "output_type": "execute_result"
    }
   ],
   "source": [
    "big_12_basic = pd.read_html('https://www.sports-reference.com/cbb/conferences/big-12/2021.html#standings')\n",
    "big_12_conf_stats = big_12_basic[0]\n",
    "big_12_conf_stats.info"
   ]
  },
  {
   "cell_type": "code",
   "execution_count": 51,
   "metadata": {},
   "outputs": [
    {
     "data": {
      "text/plain": [
       "<bound method DataFrame.info of    Unnamed: 0_level_0 Unnamed: 1_level_0 Conference            Overall      \\\n",
       "                   Rk             School          W   L   W-L%       W   L   \n",
       "0                   1          Villanova         11   4  0.733      18   7   \n",
       "1                   2          Creighton         14   6  0.700      22   9   \n",
       "2                   3        Connecticut         11   6  0.647      15   8   \n",
       "3                   4    St. John's (NY)         10   9  0.526      16  11   \n",
       "4                   4         Seton Hall         10   9  0.526      14  13   \n",
       "5                   6         Providence          9  10  0.474      13  13   \n",
       "6                   7             Xavier          6   7  0.462      13   8   \n",
       "7                   8         Georgetown          7   9  0.438      13  13   \n",
       "8                   9          Marquette          8  11  0.421      13  14   \n",
       "9                  10             Butler          8  12  0.400      10  15   \n",
       "10                 11             DePaul          2  13  0.133       5  14   \n",
       "\n",
       "          PTS/G       Advanced        \\\n",
       "     W-L%   Own   Opp      SRS   SOS   \n",
       "0   0.720  74.8  66.5     17.5   9.2   \n",
       "1   0.710  76.0  68.2     16.3   8.5   \n",
       "2   0.652  71.7  64.6     15.8   8.6   \n",
       "3   0.593  79.0  76.7      9.4   7.2   \n",
       "4   0.519  71.3  69.7     11.1   9.5   \n",
       "5   0.500  69.8  69.7      8.9   8.8   \n",
       "6   0.619  74.8  70.2     11.1   6.5   \n",
       "7   0.500  71.4  71.7     10.1  10.4   \n",
       "8   0.481  69.7  69.8      8.5   8.6   \n",
       "9   0.400  63.5  68.7      4.8   9.9   \n",
       "10  0.263  65.8  71.9      2.7   8.8   \n",
       "\n",
       "                           Unnamed: 12_level_0  \n",
       "                                         Notes  \n",
       "0        NCAA Tournament; Reg. Season Champion  \n",
       "1                              NCAA Tournament  \n",
       "2                              NCAA Tournament  \n",
       "3                                          NaN  \n",
       "4                                          NaN  \n",
       "5                                          NaN  \n",
       "6                                          NaN  \n",
       "7   NCAA Tournament; Conf. Tournament Champion  \n",
       "8                                          NaN  \n",
       "9                                          NaN  \n",
       "10                                         NaN  >"
      ]
     },
     "execution_count": 51,
     "metadata": {},
     "output_type": "execute_result"
    }
   ],
   "source": [
    "big_east_basic = pd.read_html('https://www.sports-reference.com/cbb/conferences/big-east/2021.html#standings')\n",
    "big_east_conf_stats = big_east_basic[0]\n",
    "big_east_conf_stats.info"
   ]
  },
  {
   "cell_type": "code",
   "execution_count": 52,
   "metadata": {},
   "outputs": [
    {
     "data": {
      "text/plain": [
       "<bound method DataFrame.info of    Unnamed: 0_level_0  Unnamed: 1_level_0 Conference            Overall      \\\n",
       "                   Rk              School          W   L   W-L%       W   L   \n",
       "0                   1       Southern Utah         12   2  0.857      20   4   \n",
       "1                   2         Weber State         12   3  0.800      17   6   \n",
       "2                   2  Eastern Washington         12   3  0.800      16   8   \n",
       "3                   4       Montana State          8   6  0.571      13  10   \n",
       "4                   4         Idaho State          8   6  0.571      13  11   \n",
       "5                   6             Montana          7   9  0.438      15  13   \n",
       "6                   7   Northern Colorado          6   8  0.429      11  11   \n",
       "7                   7      Portland State          6   8  0.429       9  13   \n",
       "8                   9    Sacramento State          5   9  0.357       8  12   \n",
       "9                  10    Northern Arizona          4  10  0.286       6  16   \n",
       "10                 11               Idaho          1  17  0.056       1  21   \n",
       "\n",
       "          PTS/G       Advanced       \\\n",
       "     W-L%   Own   Opp      SRS  SOS   \n",
       "0   0.833  84.2  69.5      0.6 -5.7   \n",
       "1   0.739  81.8  69.3      3.1 -5.2   \n",
       "2   0.667  78.3  70.4      4.0 -3.1   \n",
       "3   0.565  74.0  72.0     -5.6 -4.6   \n",
       "4   0.542  68.2  61.7     -8.4 -5.7   \n",
       "5   0.536  70.8  67.0     -3.7 -1.6   \n",
       "6   0.500  70.5  69.0     -6.7 -4.2   \n",
       "7   0.409  68.7  66.5     -6.3 -4.7   \n",
       "8   0.400  72.2  72.1     -7.8 -3.6   \n",
       "9   0.273  63.2  74.5    -13.0 -1.6   \n",
       "10  0.045  61.0  76.5    -18.3 -2.9   \n",
       "\n",
       "                           Unnamed: 12_level_0  \n",
       "                                         Notes  \n",
       "0                         Reg. Season Champion  \n",
       "1                                          NaN  \n",
       "2   NCAA Tournament; Conf. Tournament Champion  \n",
       "3                                          NaN  \n",
       "4                                          NaN  \n",
       "5                                          NaN  \n",
       "6                                          NaN  \n",
       "7                                          NaN  \n",
       "8                                          NaN  \n",
       "9                                          NaN  \n",
       "10                                         NaN  >"
      ]
     },
     "execution_count": 52,
     "metadata": {},
     "output_type": "execute_result"
    }
   ],
   "source": [
    "big_sky_basic = pd.read_html('https://www.sports-reference.com/cbb/conferences/big-sky/2021.html#standings')\n",
    "big_sky_conf_stats = big_sky_basic[0]\n",
    "big_sky_conf_stats.info"
   ]
  },
  {
   "cell_type": "code",
   "execution_count": 53,
   "metadata": {},
   "outputs": [
    {
     "data": {
      "text/plain": [
       "<bound method DataFrame.info of    Unnamed: 0_level_0        Unnamed: 1_level_0 Conference            Overall  \\\n",
       "                   Rk                    School          W   L   W-L%       W   \n",
       "0                   1                  Winthrop         17   1  0.944      23   \n",
       "1                   2                   Radford         12   6  0.667      15   \n",
       "2                   3                  Campbell         11   6  0.647      17   \n",
       "3                   4  North Carolina-Asheville          9   5  0.643      10   \n",
       "4                   5                   Hampton          9   9  0.500      11   \n",
       "5                   5              Gardner-Webb         10  10  0.500      11   \n",
       "6                   5                  Longwood         10  10  0.500      12   \n",
       "7                   8                High Point          6  11  0.353       9   \n",
       "8                   9    South Carolina Upstate          5  11  0.313       5   \n",
       "9                  10              Presbyterian          5  12  0.294       7   \n",
       "10                 11       Charleston Southern          2  15  0.118       3   \n",
       "\n",
       "              PTS/G       Advanced       \\\n",
       "     L   W-L%   Own   Opp      SRS  SOS   \n",
       "0    2  0.920  78.9  67.0      4.7 -7.2   \n",
       "1   12  0.556  67.6  64.6     -6.2 -6.6   \n",
       "2   10  0.630  71.0  68.1     -6.8 -7.3   \n",
       "3   10  0.500  73.4  72.8     -7.0 -7.6   \n",
       "4   14  0.440  68.8  73.2    -13.7 -9.3   \n",
       "5   15  0.423  70.7  68.4     -3.9 -6.1   \n",
       "6   17  0.414  66.2  67.8     -7.9 -6.4   \n",
       "7   15  0.375  66.7  69.9    -10.8 -7.6   \n",
       "8   18  0.217  65.9  74.4    -13.7 -5.2   \n",
       "9   15  0.318  64.1  67.1    -14.0 -9.0   \n",
       "10  18  0.143  65.5  73.8    -16.7 -6.2   \n",
       "\n",
       "                                  Unnamed: 12_level_0  \n",
       "                                                Notes  \n",
       "0   NCAA Tournament; Reg. Season Champion; Conf. T...  \n",
       "1                                                 NaN  \n",
       "2                                                 NaN  \n",
       "3                                                 NaN  \n",
       "4                                                 NaN  \n",
       "5                                                 NaN  \n",
       "6                                                 NaN  \n",
       "7                                                 NaN  \n",
       "8                                                 NaN  \n",
       "9                                                 NaN  \n",
       "10                                                NaN  >"
      ]
     },
     "execution_count": 53,
     "metadata": {},
     "output_type": "execute_result"
    }
   ],
   "source": [
    "big_south_basic = pd.read_html('https://www.sports-reference.com/cbb/conferences/big-south/2021.html#standings')\n",
    "big_south_conf_stats = big_south_basic[0]\n",
    "big_south_conf_stats.info"
   ]
  },
  {
   "cell_type": "code",
   "execution_count": 54,
   "metadata": {},
   "outputs": [
    {
     "data": {
      "text/plain": [
       "<bound method DataFrame.info of    Unnamed: 0_level_0        Unnamed: 1_level_0 Conference            Overall  \\\n",
       "                   Rk                    School          W   L   W-L%       W   \n",
       "0                   1                  Winthrop         17   1  0.944      23   \n",
       "1                   2                   Radford         12   6  0.667      15   \n",
       "2                   3                  Campbell         11   6  0.647      17   \n",
       "3                   4  North Carolina-Asheville          9   5  0.643      10   \n",
       "4                   5                   Hampton          9   9  0.500      11   \n",
       "5                   5              Gardner-Webb         10  10  0.500      11   \n",
       "6                   5                  Longwood         10  10  0.500      12   \n",
       "7                   8                High Point          6  11  0.353       9   \n",
       "8                   9    South Carolina Upstate          5  11  0.313       5   \n",
       "9                  10              Presbyterian          5  12  0.294       7   \n",
       "10                 11       Charleston Southern          2  15  0.118       3   \n",
       "\n",
       "              PTS/G       Advanced       \\\n",
       "     L   W-L%   Own   Opp      SRS  SOS   \n",
       "0    2  0.920  78.9  67.0      4.7 -7.2   \n",
       "1   12  0.556  67.6  64.6     -6.2 -6.6   \n",
       "2   10  0.630  71.0  68.1     -6.8 -7.3   \n",
       "3   10  0.500  73.4  72.8     -7.0 -7.6   \n",
       "4   14  0.440  68.8  73.2    -13.7 -9.3   \n",
       "5   15  0.423  70.7  68.4     -3.9 -6.1   \n",
       "6   17  0.414  66.2  67.8     -7.9 -6.4   \n",
       "7   15  0.375  66.7  69.9    -10.8 -7.6   \n",
       "8   18  0.217  65.9  74.4    -13.7 -5.2   \n",
       "9   15  0.318  64.1  67.1    -14.0 -9.0   \n",
       "10  18  0.143  65.5  73.8    -16.7 -6.2   \n",
       "\n",
       "                                  Unnamed: 12_level_0  \n",
       "                                                Notes  \n",
       "0   NCAA Tournament; Reg. Season Champion; Conf. T...  \n",
       "1                                                 NaN  \n",
       "2                                                 NaN  \n",
       "3                                                 NaN  \n",
       "4                                                 NaN  \n",
       "5                                                 NaN  \n",
       "6                                                 NaN  \n",
       "7                                                 NaN  \n",
       "8                                                 NaN  \n",
       "9                                                 NaN  \n",
       "10                                                NaN  >"
      ]
     },
     "execution_count": 54,
     "metadata": {},
     "output_type": "execute_result"
    }
   ],
   "source": [
    "big_west_basic = pd.read_html('https://www.sports-reference.com/cbb/conferences/big-south/2021.html#standings')\n",
    "big_west_conf_stats = big_west_basic[0]\n",
    "big_west_conf_stats.info"
   ]
  },
  {
   "cell_type": "code",
   "execution_count": 55,
   "metadata": {},
   "outputs": [
    {
     "data": {
      "text/plain": [
       "<bound method DataFrame.info of   Unnamed: 0_level_0         Unnamed: 1_level_0 Conference           Overall  \\\n",
       "                  Rk                     School          W  L   W-L%       W   \n",
       "0                  1              James Madison          8  2  0.800      13   \n",
       "1                  1               Northeastern          8  2  0.800      10   \n",
       "2                  3      College of Charleston          6  4  0.600       9   \n",
       "3                  4                    Hofstra          8  6  0.571      13   \n",
       "4                  5                   Delaware          5  4  0.556       7   \n",
       "5                  6                     Drexel          4  5  0.444      12   \n",
       "6                  7             William & Mary          4  6  0.400       7   \n",
       "7                  8                       Elon          4  7  0.364      10   \n",
       "8                  9                     Towson          3  9  0.250       4   \n",
       "9                 10  North Carolina-Wilmington          1  6  0.143       7   \n",
       "\n",
       "             PTS/G       Advanced       \\\n",
       "    L   W-L%   Own   Opp      SRS  SOS   \n",
       "0   7  0.650  78.1  70.5     -0.1 -3.2   \n",
       "1   9  0.526  67.2  68.3     -1.1  0.0   \n",
       "2  10  0.474  70.6  69.9     -5.0 -3.1   \n",
       "3  10  0.565  73.2  73.0     -2.8 -2.9   \n",
       "4   8  0.467  67.5  67.5     -5.2 -5.0   \n",
       "5   8  0.600  70.4  67.4     -1.0 -3.9   \n",
       "6  10  0.412  64.8  72.0    -11.2 -4.0   \n",
       "7   9  0.526  65.7  65.0     -5.3 -4.4   \n",
       "8  14  0.222  67.4  74.9     -9.8 -2.3   \n",
       "9  10  0.412  76.3  73.7     -6.8 -6.5   \n",
       "\n",
       "                          Unnamed: 12_level_0  \n",
       "                                        Notes  \n",
       "0                        Reg. Season Champion  \n",
       "1                        Reg. Season Champion  \n",
       "2                                         NaN  \n",
       "3                                         NaN  \n",
       "4                                         NaN  \n",
       "5  NCAA Tournament; Conf. Tournament Champion  \n",
       "6                                         NaN  \n",
       "7                                         NaN  \n",
       "8                                         NaN  \n",
       "9                                         NaN  >"
      ]
     },
     "execution_count": 55,
     "metadata": {},
     "output_type": "execute_result"
    }
   ],
   "source": [
    "colonial_athletic_basic = pd.read_html('https://www.sports-reference.com/cbb/conferences/colonial/2021.html')\n",
    "colonial_athletic_conf_stats = colonial_athletic_basic[0]\n",
    "colonial_athletic_conf_stats.info"
   ]
  },
  {
   "cell_type": "code",
   "execution_count": 56,
   "metadata": {},
   "outputs": [
    {
     "data": {
      "text/plain": [
       "<bound method DataFrame.info of   Unnamed: 0_level_0         Unnamed: 1_level_0 Conference           Overall  \\\n",
       "                  Rk                     School          W  L   W-L%       W   \n",
       "0                  1              James Madison          8  2  0.800      13   \n",
       "1                  1               Northeastern          8  2  0.800      10   \n",
       "2                  3      College of Charleston          6  4  0.600       9   \n",
       "3                  4                    Hofstra          8  6  0.571      13   \n",
       "4                  5                   Delaware          5  4  0.556       7   \n",
       "5                  6                     Drexel          4  5  0.444      12   \n",
       "6                  7             William & Mary          4  6  0.400       7   \n",
       "7                  8                       Elon          4  7  0.364      10   \n",
       "8                  9                     Towson          3  9  0.250       4   \n",
       "9                 10  North Carolina-Wilmington          1  6  0.143       7   \n",
       "\n",
       "             PTS/G       Advanced       \\\n",
       "    L   W-L%   Own   Opp      SRS  SOS   \n",
       "0   7  0.650  78.1  70.5     -0.1 -3.2   \n",
       "1   9  0.526  67.2  68.3     -1.1  0.0   \n",
       "2  10  0.474  70.6  69.9     -5.0 -3.1   \n",
       "3  10  0.565  73.2  73.0     -2.8 -2.9   \n",
       "4   8  0.467  67.5  67.5     -5.2 -5.0   \n",
       "5   8  0.600  70.4  67.4     -1.0 -3.9   \n",
       "6  10  0.412  64.8  72.0    -11.2 -4.0   \n",
       "7   9  0.526  65.7  65.0     -5.3 -4.4   \n",
       "8  14  0.222  67.4  74.9     -9.8 -2.3   \n",
       "9  10  0.412  76.3  73.7     -6.8 -6.5   \n",
       "\n",
       "                          Unnamed: 12_level_0  \n",
       "                                        Notes  \n",
       "0                        Reg. Season Champion  \n",
       "1                        Reg. Season Champion  \n",
       "2                                         NaN  \n",
       "3                                         NaN  \n",
       "4                                         NaN  \n",
       "5  NCAA Tournament; Conf. Tournament Champion  \n",
       "6                                         NaN  \n",
       "7                                         NaN  \n",
       "8                                         NaN  \n",
       "9                                         NaN  >"
      ]
     },
     "execution_count": 56,
     "metadata": {},
     "output_type": "execute_result"
    }
   ],
   "source": [
    "conference_usa_basic = pd.read_html('https://www.sports-reference.com/cbb/conferences/cusa/2021.html#standings')\n",
    "conference_athletic_conf_stats = conference_usa_basic[0]\n",
    "colonial_athletic_conf_stats.info"
   ]
  },
  {
   "cell_type": "code",
   "execution_count": 57,
   "metadata": {},
   "outputs": [
    {
     "data": {
      "text/plain": [
       "<bound method DataFrame.info of    Unnamed: 0_level_0 Unnamed: 1_level_0 Conference            Overall      \\\n",
       "                   Rk             School          W   L   W-L%       W   L   \n",
       "0                   1       Wright State         16   4  0.800      18   6   \n",
       "1                   1    Cleveland State         16   4  0.800      19   8   \n",
       "2                   3      Detroit Mercy         10   6  0.625      12  10   \n",
       "3                   4  Northern Kentucky         11   7  0.611      14  11   \n",
       "4                   5            Oakland         10  10  0.500      12  18   \n",
       "5                   6   Youngstown State          9  11  0.450      15  12   \n",
       "6                   7              IUPUI          7   9  0.438       8  10   \n",
       "7                   8          Milwaukee          7  10  0.412      10  12   \n",
       "8                   9          Green Bay          8  12  0.400       8  17   \n",
       "9                  10   Illinois-Chicago          6  10  0.375       9  13   \n",
       "10                 11  Purdue-Fort Wayne          6  14  0.300       8  15   \n",
       "11                 12      Robert Morris          3  12  0.200       4  15   \n",
       "\n",
       "          PTS/G       Advanced       \\\n",
       "     W-L%   Own   Opp      SRS  SOS   \n",
       "0   0.750  82.0  67.4      6.9 -7.7   \n",
       "1   0.704  70.9  71.2     -5.1 -4.8   \n",
       "2   0.545  76.5  74.0     -3.7 -6.2   \n",
       "3   0.560  71.4  71.2     -6.8 -6.9   \n",
       "4   0.400  74.7  81.2     -9.3 -2.8   \n",
       "5   0.556  74.4  72.2     -9.8 -8.2   \n",
       "6   0.444  71.2  75.8    -11.6 -7.0   \n",
       "7   0.455  75.5  76.3     -7.7 -7.0   \n",
       "8   0.320  71.6  76.5    -10.2 -5.2   \n",
       "9   0.409  67.7  72.3    -12.1 -7.4   \n",
       "10  0.348  75.1  78.7    -12.1 -8.6   \n",
       "11  0.211  72.3  78.6    -13.2 -5.5   \n",
       "\n",
       "                                  Unnamed: 12_level_0  \n",
       "                                                Notes  \n",
       "0                                Reg. Season Champion  \n",
       "1   NCAA Tournament; Reg. Season Champion; Conf. T...  \n",
       "2                                                 NaN  \n",
       "3                                                 NaN  \n",
       "4                                                 NaN  \n",
       "5                                                 NaN  \n",
       "6                                                 NaN  \n",
       "7                                                 NaN  \n",
       "8                                                 NaN  \n",
       "9                                                 NaN  \n",
       "10                                                NaN  \n",
       "11                                                NaN  >"
      ]
     },
     "execution_count": 57,
     "metadata": {},
     "output_type": "execute_result"
    }
   ],
   "source": [
    "horizon_usa_basic = pd.read_html('https://www.sports-reference.com/cbb/conferences/horizon/2021.html#standings')\n",
    "horizon_conf_stats = horizon_usa_basic[0]\n",
    "horizon_conf_stats.info"
   ]
  },
  {
   "cell_type": "code",
   "execution_count": 58,
   "metadata": {},
   "outputs": [
    {
     "data": {
      "text/plain": [
       "<bound method DataFrame.info of   Unnamed: 0_level_0 Unnamed: 1_level_0 Conference         Overall          \\\n",
       "                  Rk             School          W  L W-L%       W  L W-L%   \n",
       "0                  1              Brown          0  0  NaN       0  0  NaN   \n",
       "1                  1           Columbia          0  0  NaN       0  0  NaN   \n",
       "2                  1            Cornell          0  0  NaN       0  0  NaN   \n",
       "3                  1          Dartmouth          0  0  NaN       0  0  NaN   \n",
       "4                  1            Harvard          0  0  NaN       0  0  NaN   \n",
       "5                  1       Pennsylvania          0  0  NaN       0  0  NaN   \n",
       "6                  1          Princeton          0  0  NaN       0  0  NaN   \n",
       "7                  1               Yale          0  0  NaN       0  0  NaN   \n",
       "\n",
       "  PTS/G     Advanced     Unnamed: 12_level_0  \n",
       "    Own Opp      SRS SOS               Notes  \n",
       "0   NaN NaN      NaN NaN                 NaN  \n",
       "1   NaN NaN      NaN NaN                 NaN  \n",
       "2   NaN NaN      NaN NaN                 NaN  \n",
       "3   NaN NaN      NaN NaN                 NaN  \n",
       "4   NaN NaN      NaN NaN                 NaN  \n",
       "5   NaN NaN      NaN NaN                 NaN  \n",
       "6   NaN NaN      NaN NaN                 NaN  \n",
       "7   NaN NaN      NaN NaN                 NaN  >"
      ]
     },
     "execution_count": 58,
     "metadata": {},
     "output_type": "execute_result"
    }
   ],
   "source": [
    "ivy_league_basic = pd.read_html('https://www.sports-reference.com/cbb/conferences/ivy/2021.html#standings')\n",
    "ivy_league_stats = ivy_league_basic[0]\n",
    "ivy_league_stats.info"
   ]
  },
  {
   "cell_type": "code",
   "execution_count": 59,
   "metadata": {},
   "outputs": [
    {
     "data": {
      "text/plain": [
       "<bound method DataFrame.info of    Unnamed: 0_level_0 Unnamed: 1_level_0 Conference            Overall      \\\n",
       "                   Rk             School          W   L   W-L%       W   L   \n",
       "0                   1              Siena         12   4  0.750      12   5   \n",
       "1                   2               Iona          6   3  0.667      12   6   \n",
       "2                   2           Monmouth         12   6  0.667      12   8   \n",
       "3                   4           Canisius          7   5  0.583       7   6   \n",
       "4                   5             Marist         10   8  0.556      12   9   \n",
       "5                   5      Saint Peter's         10   8  0.556      14  11   \n",
       "6                   7            Niagara          7   9  0.438       9  11   \n",
       "7                   8         Quinnipiac          7  10  0.412       9  13   \n",
       "8                   9          Fairfield          7  11  0.389      10  17   \n",
       "9                  10          Manhattan          6  12  0.333       7  13   \n",
       "10                 11              Rider          5  13  0.278       6  17   \n",
       "\n",
       "          PTS/G       Advanced       \\\n",
       "     W-L%   Own   Opp      SRS  SOS   \n",
       "0   0.706  67.6  63.0     -4.0 -8.6   \n",
       "1   0.667  71.3  66.1     -1.2 -6.4   \n",
       "2   0.600  76.1  74.3     -5.9 -7.6   \n",
       "3   0.538  70.4  71.2     -8.6 -7.8   \n",
       "4   0.571  63.4  63.6     -9.0 -8.8   \n",
       "5   0.560  63.2  61.5     -5.5 -7.2   \n",
       "6   0.450  64.7  65.2     -7.5 -7.0   \n",
       "7   0.409  67.5  69.0     -9.1 -7.6   \n",
       "8   0.370  61.8  66.7    -11.5 -6.6   \n",
       "9   0.350  63.4  67.3    -12.2 -8.4   \n",
       "10  0.261  67.5  74.0    -12.2 -5.8   \n",
       "\n",
       "                           Unnamed: 12_level_0  \n",
       "                                         Notes  \n",
       "0                         Reg. Season Champion  \n",
       "1   NCAA Tournament; Conf. Tournament Champion  \n",
       "2                         Reg. Season Champion  \n",
       "3                                          NaN  \n",
       "4                                          NaN  \n",
       "5                                          NaN  \n",
       "6                                          NaN  \n",
       "7                                          NaN  \n",
       "8                                          NaN  \n",
       "9                                          NaN  \n",
       "10                                         NaN  >"
      ]
     },
     "execution_count": 59,
     "metadata": {},
     "output_type": "execute_result"
    }
   ],
   "source": [
    "metro_atlantic_athletic_basic = pd.read_html('https://www.sports-reference.com/cbb/conferences/maac/2021.html#standings')\n",
    "metro_atlantic_athletic_conf_stats = metro_atlantic_athletic_basic[0]\n",
    "metro_atlantic_athletic_conf_stats.info"
   ]
  },
  {
   "cell_type": "code",
   "execution_count": 60,
   "metadata": {},
   "outputs": [
    {
     "data": {
      "text/plain": [
       "<bound method DataFrame.info of    Unnamed: 0_level_0   Unnamed: 1_level_0 Conference           Overall      \\\n",
       "                   Rk                 East          W   L  W-L%       W   L   \n",
       "0                   1              Buffalo         12   5  .706      16   9   \n",
       "1                   2                Akron         12   6  .667      15   8   \n",
       "2                   2           Kent State         12   6  .667      15   8   \n",
       "3                   4                 Ohio          9   5  .643      17   8   \n",
       "4                   5  Bowling Green State         10   8  .556      14  12   \n",
       "5                   6           Miami (OH)          9   8  .529      12  11   \n",
       "6                  Rk                 West          W   L  W-L%       W   L   \n",
       "7                   1               Toledo         15   4  .789      21   9   \n",
       "8                   2           Ball State          8   9  .471      10  13   \n",
       "9                   3     Western Michigan          4  12  .250       5  16   \n",
       "10                  4     Eastern Michigan          3  11  .214       6  12   \n",
       "11                  5     Central Michigan          3  13  .188       7  16   \n",
       "12                  6    Northern Illinois          2  12  .143       3  16   \n",
       "\n",
       "         PTS/G       Advanced        \\\n",
       "    W-L%   Own   Opp      SRS   SOS   \n",
       "0   .640  81.4  72.9      6.5  -1.6   \n",
       "1   .652  78.2  72.2      1.9  -2.0   \n",
       "2   .652  76.7  71.1      1.7  -1.9   \n",
       "3   .680  79.2  72.6      5.5  -0.6   \n",
       "4   .538  77.5  74.6     -0.2  -2.4   \n",
       "5   .522  72.3  71.6     -2.7  -2.7   \n",
       "6   W-L%   Own   Opp      SRS   SOS   \n",
       "7   .700  81.1  72.6      6.6  -1.9   \n",
       "8   .435  74.7  75.5     -2.0  -1.2   \n",
       "9   .238  63.1  72.0    -11.5  -1.2   \n",
       "10  .333  70.4  75.7    -14.2  -1.2   \n",
       "11  .304  76.8  79.8    -12.3  -4.2   \n",
       "12  .158  62.3  77.4    -17.9  -2.8   \n",
       "\n",
       "                           Unnamed: 12_level_0  \n",
       "                                         Notes  \n",
       "0                                          NaN  \n",
       "1                                          NaN  \n",
       "2                                          NaN  \n",
       "3   NCAA Tournament; Conf. Tournament Champion  \n",
       "4                                          NaN  \n",
       "5                                          NaN  \n",
       "6                                        Notes  \n",
       "7                         Reg. Season Champion  \n",
       "8                                          NaN  \n",
       "9                                          NaN  \n",
       "10                                         NaN  \n",
       "11                                         NaN  \n",
       "12                                         NaN  >"
      ]
     },
     "execution_count": 60,
     "metadata": {},
     "output_type": "execute_result"
    }
   ],
   "source": [
    "mid_american_basic = pd.read_html('https://www.sports-reference.com/cbb/conferences/mac/2021.html#standings')\n",
    "mid_american_conf_stats = mid_american_basic[0]\n",
    "mid_american_conf_stats.info"
   ]
  },
  {
   "cell_type": "code",
   "execution_count": 61,
   "metadata": {},
   "outputs": [
    {
     "data": {
      "text/plain": [
       "<bound method DataFrame.info of    Unnamed: 0_level_0   Unnamed: 1_level_0 Conference           Overall      \\\n",
       "                   Rk                 East          W   L  W-L%       W   L   \n",
       "0                   1              Buffalo         12   5  .706      16   9   \n",
       "1                   2                Akron         12   6  .667      15   8   \n",
       "2                   2           Kent State         12   6  .667      15   8   \n",
       "3                   4                 Ohio          9   5  .643      17   8   \n",
       "4                   5  Bowling Green State         10   8  .556      14  12   \n",
       "5                   6           Miami (OH)          9   8  .529      12  11   \n",
       "6                  Rk                 West          W   L  W-L%       W   L   \n",
       "7                   1               Toledo         15   4  .789      21   9   \n",
       "8                   2           Ball State          8   9  .471      10  13   \n",
       "9                   3     Western Michigan          4  12  .250       5  16   \n",
       "10                  4     Eastern Michigan          3  11  .214       6  12   \n",
       "11                  5     Central Michigan          3  13  .188       7  16   \n",
       "12                  6    Northern Illinois          2  12  .143       3  16   \n",
       "\n",
       "         PTS/G       Advanced        \\\n",
       "    W-L%   Own   Opp      SRS   SOS   \n",
       "0   .640  81.4  72.9      6.5  -1.6   \n",
       "1   .652  78.2  72.2      1.9  -2.0   \n",
       "2   .652  76.7  71.1      1.7  -1.9   \n",
       "3   .680  79.2  72.6      5.5  -0.6   \n",
       "4   .538  77.5  74.6     -0.2  -2.4   \n",
       "5   .522  72.3  71.6     -2.7  -2.7   \n",
       "6   W-L%   Own   Opp      SRS   SOS   \n",
       "7   .700  81.1  72.6      6.6  -1.9   \n",
       "8   .435  74.7  75.5     -2.0  -1.2   \n",
       "9   .238  63.1  72.0    -11.5  -1.2   \n",
       "10  .333  70.4  75.7    -14.2  -1.2   \n",
       "11  .304  76.8  79.8    -12.3  -4.2   \n",
       "12  .158  62.3  77.4    -17.9  -2.8   \n",
       "\n",
       "                           Unnamed: 12_level_0  \n",
       "                                         Notes  \n",
       "0                                          NaN  \n",
       "1                                          NaN  \n",
       "2                                          NaN  \n",
       "3   NCAA Tournament; Conf. Tournament Champion  \n",
       "4                                          NaN  \n",
       "5                                          NaN  \n",
       "6                                        Notes  \n",
       "7                         Reg. Season Champion  \n",
       "8                                          NaN  \n",
       "9                                          NaN  \n",
       "10                                         NaN  \n",
       "11                                         NaN  \n",
       "12                                         NaN  >"
      ]
     },
     "execution_count": 61,
     "metadata": {},
     "output_type": "execute_result"
    }
   ],
   "source": [
    "mid_eastern_athletic_basic = pd.read_html('https://www.sports-reference.com/cbb/conferences/mac/2021.html#standings')\n",
    "mid_eastern_athletic_conf_stats = mid_eastern_athletic_basic[0]\n",
    "mid_american_conf_stats.info"
   ]
  },
  {
   "cell_type": "code",
   "execution_count": 62,
   "metadata": {},
   "outputs": [
    {
     "data": {
      "text/plain": [
       "<bound method DataFrame.info of   Unnamed: 0_level_0 Unnamed: 1_level_0 Conference            Overall      \\\n",
       "                  Rk             School          W   L   W-L%       W   L   \n",
       "0                  1        Loyola (IL)         16   2  0.889      26   5   \n",
       "1                  2              Drake         15   3  0.833      26   5   \n",
       "2                  3     Missouri State         12   6  0.667      17   7   \n",
       "3                  4      Indiana State         11   7  0.611      15  10   \n",
       "4                  5      Northern Iowa          7  11  0.389      10  15   \n",
       "5                  5         Evansville          7  11  0.389       9  16   \n",
       "6                  5         Valparaiso          7  11  0.389      10  18   \n",
       "7                  8            Bradley          6  12  0.333      12  16   \n",
       "8                  9  Southern Illinois          5  13  0.278      12  14   \n",
       "9                 10     Illinois State          4  14  0.222       7  18   \n",
       "\n",
       "         PTS/G       Advanced       \\\n",
       "    W-L%   Own   Opp      SRS  SOS   \n",
       "0  0.839  71.0  56.1     15.1  1.4   \n",
       "1  0.839  75.9  64.5      9.4 -0.5   \n",
       "2  0.708  73.4  66.4      5.2  0.0   \n",
       "3  0.600  66.5  65.8      2.0  1.9   \n",
       "4  0.400  69.5  71.2     -1.7  2.4   \n",
       "5  0.360  64.8  69.6     -4.9  0.0   \n",
       "6  0.357  65.0  67.9     -4.2  1.1   \n",
       "7  0.429  69.6  66.6      0.3  1.2   \n",
       "8  0.462  65.5  68.1     -3.6  0.7   \n",
       "9  0.280  72.0  74.8     -5.5  0.4   \n",
       "\n",
       "                                 Unnamed: 12_level_0  \n",
       "                                               Notes  \n",
       "0  NCAA Tournament; Reg. Season Champion; Conf. T...  \n",
       "1                                    NCAA Tournament  \n",
       "2                                                NaN  \n",
       "3                                                NaN  \n",
       "4                                                NaN  \n",
       "5                                                NaN  \n",
       "6                                                NaN  \n",
       "7                                                NaN  \n",
       "8                                                NaN  \n",
       "9                                                NaN  >"
      ]
     },
     "execution_count": 62,
     "metadata": {},
     "output_type": "execute_result"
    }
   ],
   "source": [
    "missouri_valley_basic = pd.read_html('https://www.sports-reference.com/cbb/conferences/mvc/2021.html#standings')\n",
    "missouri_valley_conf_stats = missouri_valley_basic[0]\n",
    "missouri_valley_conf_stats.info"
   ]
  },
  {
   "cell_type": "code",
   "execution_count": 63,
   "metadata": {},
   "outputs": [
    {
     "data": {
      "text/plain": [
       "<bound method DataFrame.info of    Unnamed: 0_level_0 Unnamed: 1_level_0 Conference            Overall      \\\n",
       "                   Rk             School          W   L   W-L%       W   L   \n",
       "0                   1    San Diego State         14   3  0.824      23   5   \n",
       "1                   2     Colorado State         14   4  0.778      20   8   \n",
       "2                   3         Utah State         13   4  0.765      20   9   \n",
       "3                   4        Boise State         14   6  0.700      19   9   \n",
       "4                   5             Nevada          8   7  0.533      16  10   \n",
       "5                   6       Fresno State          9  11  0.450      12  12   \n",
       "6                   7   Nevada-Las Vegas          8  10  0.444      12  15   \n",
       "7                   8            Wyoming          5   9  0.357      14  11   \n",
       "8                   9          Air Force          3  17  0.150       5  20   \n",
       "9                  10     San Jose State          2  12  0.143       5  16   \n",
       "10                 11         New Mexico          1   8  0.111       6  16   \n",
       "\n",
       "          PTS/G       Advanced       \\\n",
       "     W-L%   Own   Opp      SRS  SOS   \n",
       "0   0.821  73.6  61.2     14.4  3.0   \n",
       "1   0.714  74.0  66.8      8.1  1.1   \n",
       "2   0.690  72.6  62.3     11.0  1.3   \n",
       "3   0.679  75.8  66.7      9.7  1.7   \n",
       "4   0.615  73.7  69.7      5.4  2.1   \n",
       "5   0.500  66.3  67.4     -3.6  0.1   \n",
       "6   0.444  69.4  67.5     -1.5  1.0   \n",
       "7   0.560  76.6  75.5     -1.2 -2.3   \n",
       "8   0.200  58.7  71.9    -13.0  0.2   \n",
       "9   0.238  65.8  81.3    -17.5  1.0   \n",
       "10  0.273  65.3  71.7    -12.4 -1.7   \n",
       "\n",
       "                                  Unnamed: 12_level_0  \n",
       "                                                Notes  \n",
       "0   NCAA Tournament; Reg. Season Champion; Conf. T...  \n",
       "1                                                 NaN  \n",
       "2                                     NCAA Tournament  \n",
       "3                                                 NaN  \n",
       "4                                                 NaN  \n",
       "5                                                 NaN  \n",
       "6                                                 NaN  \n",
       "7                                                 NaN  \n",
       "8                                                 NaN  \n",
       "9                                                 NaN  \n",
       "10                                                NaN  >"
      ]
     },
     "execution_count": 63,
     "metadata": {},
     "output_type": "execute_result"
    }
   ],
   "source": [
    "mountain_west_basic = pd.read_html('https://www.sports-reference.com/cbb/conferences/mwc/2021.html#standings')\n",
    "mountain_west_conf_stats = mountain_west_basic[0]\n",
    "mountain_west_conf_stats.info"
   ]
  },
  {
   "cell_type": "code",
   "execution_count": 64,
   "metadata": {},
   "outputs": [
    {
     "data": {
      "text/plain": [
       "<bound method DataFrame.info of   Unnamed: 0_level_0         Unnamed: 1_level_0 Conference            Overall  \\\n",
       "                  Rk                     School          W   L   W-L%       W   \n",
       "0                  1                     Wagner         13   5  0.722      13   \n",
       "1                  2                     Bryant         10   4  0.714      15   \n",
       "2                  3           Mount St. Mary's          9   7  0.563      12   \n",
       "3                  3               Sacred Heart          9   7  0.563       9   \n",
       "4                  5     Long Island University          9   9  0.500       9   \n",
       "5                  5                  Merrimack          9   9  0.500       9   \n",
       "6                  5           St. Francis (NY)          9   9  0.500       9   \n",
       "7                  8        Fairleigh Dickinson          8  10  0.444       9   \n",
       "8                  9         Saint Francis (PA)          5  13  0.278       6   \n",
       "9                  9  Central Connecticut State          5  13  0.278       5   \n",
       "\n",
       "             PTS/G       Advanced       \\\n",
       "    L   W-L%   Own   Opp      SRS  SOS   \n",
       "0   7  0.650  71.3  68.7     -5.4 -7.9   \n",
       "1   7  0.682  83.8  75.6     -1.4 -7.3   \n",
       "2  11  0.522  63.2  62.2     -5.7 -6.7   \n",
       "3   9  0.500  70.3  75.0    -12.2 -7.5   \n",
       "4   9  0.500  74.0  72.9     -7.8 -8.8   \n",
       "5   9  0.500  66.3  66.7     -9.1 -8.7   \n",
       "6  10  0.474  77.7  79.5    -10.2 -8.4   \n",
       "7  15  0.375  75.0  78.8    -10.2 -6.5   \n",
       "8  16  0.273  68.9  73.4    -10.3 -5.8   \n",
       "9  16  0.238  68.5  77.4    -15.1 -6.3   \n",
       "\n",
       "                          Unnamed: 12_level_0  \n",
       "                                        Notes  \n",
       "0                        Reg. Season Champion  \n",
       "1                                         NaN  \n",
       "2  NCAA Tournament; Conf. Tournament Champion  \n",
       "3                                         NaN  \n",
       "4                                         NaN  \n",
       "5                                         NaN  \n",
       "6                                         NaN  \n",
       "7                                         NaN  \n",
       "8                                         NaN  \n",
       "9                                         NaN  >"
      ]
     },
     "execution_count": 64,
     "metadata": {},
     "output_type": "execute_result"
    }
   ],
   "source": [
    "northeast_basic = pd.read_html('https://www.sports-reference.com/cbb/conferences/northeast/2021.html#standings')\n",
    "northeast_conf_stats = northeast_basic[0]\n",
    "northeast_conf_stats.info"
   ]
  },
  {
   "cell_type": "code",
   "execution_count": 65,
   "metadata": {},
   "outputs": [
    {
     "data": {
      "text/plain": [
       "<bound method DataFrame.info of    Unnamed: 0_level_0              Unnamed: 1_level_0 Conference             \\\n",
       "                   Rk                          School          W   L   W-L%   \n",
       "0                   1                         Belmont         18   2  0.900   \n",
       "1                   2                  Morehead State         17   3  0.850   \n",
       "2                   3                Eastern Kentucky         15   5  0.750   \n",
       "3                   4              Jacksonville State         13   6  0.684   \n",
       "4                   5                     Austin Peay         10  10  0.500   \n",
       "5                   5                    Murray State         10  10  0.500   \n",
       "6                   7        Southeast Missouri State          9  11  0.450   \n",
       "7                   8  Southern Illinois-Edwardsville          7  12  0.368   \n",
       "8                   9                Eastern Illinois          6  14  0.300   \n",
       "9                   9                Tennessee-Martin          6  14  0.300   \n",
       "10                 11                  Tennessee Tech          5  15  0.250   \n",
       "11                 12                 Tennessee State          3  17  0.150   \n",
       "\n",
       "   Overall            PTS/G       Advanced       \\\n",
       "         W   L   W-L%   Own   Opp      SRS  SOS   \n",
       "0       26   4  0.867  81.3  69.1      3.5 -8.7   \n",
       "1       23   8  0.742  68.8  64.1     -1.0 -4.3   \n",
       "2       22   7  0.759  81.8  73.7     -2.7 -8.2   \n",
       "3       18   9  0.667  74.3  68.6     -3.0 -6.1   \n",
       "4       14  13  0.519  74.3  70.0     -6.7 -8.2   \n",
       "5       13  13  0.500  76.4  66.9     -2.9 -8.2   \n",
       "6       11  16  0.407  69.0  71.7    -10.2 -7.5   \n",
       "7        9  17  0.346  65.7  73.0    -14.9 -6.0   \n",
       "8        9  18  0.333  69.4  74.9    -12.7 -7.2   \n",
       "9        8  16  0.333  65.5  77.0    -19.4 -5.9   \n",
       "10       5  22  0.185  66.6  76.9    -14.1 -3.8   \n",
       "11       4  19  0.174  68.4  74.0    -14.1 -7.2   \n",
       "\n",
       "                           Unnamed: 12_level_0  \n",
       "                                         Notes  \n",
       "0                         Reg. Season Champion  \n",
       "1   NCAA Tournament; Conf. Tournament Champion  \n",
       "2                                          NaN  \n",
       "3                                          NaN  \n",
       "4                                          NaN  \n",
       "5                                          NaN  \n",
       "6                                          NaN  \n",
       "7                                          NaN  \n",
       "8                                          NaN  \n",
       "9                                          NaN  \n",
       "10                                         NaN  \n",
       "11                                         NaN  >"
      ]
     },
     "execution_count": 65,
     "metadata": {},
     "output_type": "execute_result"
    }
   ],
   "source": [
    "ohio_valley_basic = pd.read_html('https://www.sports-reference.com/cbb/conferences/ovc/2021.html#standings')\n",
    "ohio_valley_conf_stats = ohio_valley_basic[0]\n",
    "ohio_valley_conf_stats.info"
   ]
  },
  {
   "cell_type": "code",
   "execution_count": 66,
   "metadata": {},
   "outputs": [
    {
     "data": {
      "text/plain": [
       "<bound method DataFrame.info of    Unnamed: 0_level_0        Unnamed: 1_level_0 Conference            Overall  \\\n",
       "                   Rk                    School          W   L   W-L%       W   \n",
       "0                   1                    Oregon         14   4  0.778      21   \n",
       "1                   2       Southern California         15   5  0.750      25   \n",
       "2                   3                  Colorado         14   6  0.700      23   \n",
       "3                   4                      UCLA         13   6  0.684      22   \n",
       "4                   5                   Arizona         11   9  0.550      17   \n",
       "5                   6              Oregon State         10  10  0.500      20   \n",
       "6                   6                  Stanford         10  10  0.500      14   \n",
       "7                   8                      Utah          8  11  0.421      12   \n",
       "8                   9             Arizona State          7  10  0.412      11   \n",
       "9                  10          Washington State          7  12  0.368      14   \n",
       "10                 11                Washington          4  16  0.200       5   \n",
       "11                 12  University of California          3  17  0.150       9   \n",
       "\n",
       "              PTS/G       Advanced        \\\n",
       "     L   W-L%   Own   Opp      SRS   SOS   \n",
       "0    7  0.750  72.3  66.0     16.1   9.6   \n",
       "1    8  0.758  74.9  65.1     20.5  10.7   \n",
       "2    9  0.719  73.1  63.8     18.9   9.6   \n",
       "3   10  0.688  73.4  68.4     16.3  11.3   \n",
       "4    9  0.654  75.4  68.6     15.0   8.2   \n",
       "5   13  0.606  70.5  67.6     11.5  10.8   \n",
       "6   13  0.519  69.7  69.6     10.2  10.0   \n",
       "7   13  0.480  72.1  69.8     11.9   9.5   \n",
       "8   14  0.440  74.3  77.1      7.5  10.2   \n",
       "9   13  0.519  68.6  67.4      8.1   6.9   \n",
       "10  21  0.192  67.7  77.4      1.9  11.6   \n",
       "11  20  0.310  65.4  69.2      4.9   9.8   \n",
       "\n",
       "                           Unnamed: 12_level_0  \n",
       "                                         Notes  \n",
       "0        NCAA Tournament; Reg. Season Champion  \n",
       "1                              NCAA Tournament  \n",
       "2                              NCAA Tournament  \n",
       "3                     NCAA Tournament; NCAA FF  \n",
       "4                                          NaN  \n",
       "5   NCAA Tournament; Conf. Tournament Champion  \n",
       "6                                          NaN  \n",
       "7                                          NaN  \n",
       "8                                          NaN  \n",
       "9                                          NaN  \n",
       "10                                         NaN  \n",
       "11                                         NaN  >"
      ]
     },
     "execution_count": 66,
     "metadata": {},
     "output_type": "execute_result"
    }
   ],
   "source": [
    "pac_12_basic = pd.read_html('https://www.sports-reference.com/cbb/conferences/pac-12/2021.html#standings')\n",
    "pac_12_conf_stats = pac_12_basic[0]\n",
    "pac_12_conf_stats.info"
   ]
  },
  {
   "cell_type": "code",
   "execution_count": 67,
   "metadata": {},
   "outputs": [
    {
     "data": {
      "text/plain": [
       "<bound method DataFrame.info of   Unnamed: 0_level_0 Unnamed: 1_level_0 Conference            Overall      \\\n",
       "                  Rk             School          W   L   W-L%       W   L   \n",
       "0                  1               Navy         12   1  0.923      15   3   \n",
       "1                  2            Colgate         11   1  0.917      14   2   \n",
       "2                  3          Lafayette          9   5  0.643       9   6   \n",
       "3                  4               Army          7   7  0.500      12  10   \n",
       "4                  5           American          4   5  0.444       4   6   \n",
       "5                  6           Bucknell          4   6  0.400       5   7   \n",
       "6                  7  Boston University          6  10  0.375       7  11   \n",
       "7                  8         Holy Cross          5  11  0.313       5  11   \n",
       "8                  9        Loyola (MD)          4  10  0.286       6  11   \n",
       "9                  9             Lehigh          4  10  0.286       4  11   \n",
       "\n",
       "         PTS/G       Advanced                              Unnamed: 12_level_0  \n",
       "    W-L%   Own   Opp      SRS  SOS                                       Notes  \n",
       "0  0.833  71.5  67.0      1.0 -3.5                                         NaN  \n",
       "1  0.875  85.2  69.6     13.7 -1.9  NCAA Tournament; Conf. Tournament Champion  \n",
       "2  0.600  77.7  76.7     -5.4 -6.4                                         NaN  \n",
       "3  0.545  71.7  69.5      0.1  0.6                                         NaN  \n",
       "4  0.400  69.1  73.6     -6.3 -1.8                                         NaN  \n",
       "5  0.417  74.9  77.3     -7.8 -5.4                                         NaN  \n",
       "6  0.389  69.4  73.9     -3.7  0.8                                         NaN  \n",
       "7  0.313  70.6  76.1     -5.0  0.4                                         NaN  \n",
       "8  0.353  72.1  70.9     -2.3 -3.5                                         NaN  \n",
       "9  0.267  68.3  76.6    -12.8 -4.6                                         NaN  >"
      ]
     },
     "execution_count": 67,
     "metadata": {},
     "output_type": "execute_result"
    }
   ],
   "source": [
    "patriot_league_basic = pd.read_html('https://www.sports-reference.com/cbb/conferences/patriot/2021.html#standings')\n",
    "patriot_league_stats = patriot_league_basic[0]\n",
    "patriot_league_stats.info"
   ]
  },
  {
   "cell_type": "code",
   "execution_count": 68,
   "metadata": {},
   "outputs": [
    {
     "data": {
      "text/plain": [
       "<bound method DataFrame.info of    Unnamed: 0_level_0 Unnamed: 1_level_0 Conference            Overall      \\\n",
       "                   Rk             School          W   L   W-L%       W   L   \n",
       "0                   1            Alabama         16   2  0.889      26   7   \n",
       "1                   2           Arkansas         13   4  0.765      25   7   \n",
       "2                   3    Louisiana State         11   6  0.647      19  10   \n",
       "3                   4          Tennessee         10   7  0.588      18   9   \n",
       "4                   5            Florida          9   7  0.563      15  10   \n",
       "5                   6        Mississippi         10   8  0.556      16  12   \n",
       "6                   7           Missouri          8   8  0.500      16  10   \n",
       "7                   8           Kentucky          8   9  0.471       9  16   \n",
       "8                   9  Mississippi State          8  10  0.444      18  15   \n",
       "9                  10            Georgia          7  11  0.389      14  12   \n",
       "10                 10             Auburn          7  11  0.389      13  14   \n",
       "11                 12     South Carolina          4  12  0.250       6  15   \n",
       "12                 13          Texas A&M          2   8  0.200       8  10   \n",
       "13                 14         Vanderbilt          3  13  0.188       9  16   \n",
       "\n",
       "          PTS/G       Advanced        \\\n",
       "     W-L%   Own   Opp      SRS   SOS   \n",
       "0   0.788  79.7  70.1     19.6  10.0   \n",
       "1   0.781  81.4  70.8     17.8   7.2   \n",
       "2   0.655  81.8  75.2     15.7   9.1   \n",
       "3   0.667  71.9  63.5     16.9   8.5   \n",
       "4   0.600  74.2  70.3     13.7   9.8   \n",
       "5   0.571  68.8  63.6     11.2   6.0   \n",
       "6   0.615  73.4  71.9     12.4  10.9   \n",
       "7   0.360  70.4  70.2     11.8  11.5   \n",
       "8   0.545  69.3  66.8      9.2   6.8   \n",
       "9   0.538  77.5  78.0      6.6   8.0   \n",
       "10  0.481  77.2  76.4     10.0   9.3   \n",
       "11  0.286  72.5  79.1      3.4  10.0   \n",
       "12  0.444  64.3  66.9      2.2   4.9   \n",
       "13  0.360  71.8  72.4      6.1   6.7   \n",
       "\n",
       "                                  Unnamed: 12_level_0  \n",
       "                                                Notes  \n",
       "0   NCAA Tournament; Reg. Season Champion; Conf. T...  \n",
       "1                                     NCAA Tournament  \n",
       "2                                     NCAA Tournament  \n",
       "3                                     NCAA Tournament  \n",
       "4                                     NCAA Tournament  \n",
       "5                                                 NaN  \n",
       "6                                     NCAA Tournament  \n",
       "7                                                 NaN  \n",
       "8                                                 NaN  \n",
       "9                                                 NaN  \n",
       "10                                                NaN  \n",
       "11                                                NaN  \n",
       "12                                                NaN  \n",
       "13                                                NaN  >"
      ]
     },
     "execution_count": 68,
     "metadata": {},
     "output_type": "execute_result"
    }
   ],
   "source": [
    "southeastern_basic = pd.read_html('https://www.sports-reference.com/cbb/conferences/sec/2021.html#standings')\n",
    "southeastern_conf_stats = southeastern_basic[0]\n",
    "southeastern_conf_stats.info"
   ]
  },
  {
   "cell_type": "code",
   "execution_count": 69,
   "metadata": {},
   "outputs": [
    {
     "data": {
      "text/plain": [
       "<bound method DataFrame.info of   Unnamed: 0_level_0           Unnamed: 1_level_0 Conference             \\\n",
       "                  Rk                       School          W   L   W-L%   \n",
       "0                  1    North Carolina-Greensboro         13   5  0.722   \n",
       "1                  2                      Wofford         12   5  0.706   \n",
       "2                  3                       Furman         10   5  0.667   \n",
       "3                  4                  Chattanooga          9   7  0.563   \n",
       "4                  5         East Tennessee State          8   7  0.533   \n",
       "5                  6  Virginia Military Institute          7   7  0.500   \n",
       "6                  7                       Mercer          8   9  0.471   \n",
       "7                  8                  The Citadel          5  11  0.313   \n",
       "8                  9             Western Carolina          4  13  0.235   \n",
       "9                 10                      Samford          2   9  0.182   \n",
       "\n",
       "  Overall            PTS/G       Advanced       \\\n",
       "        W   L   W-L%   Own   Opp      SRS  SOS   \n",
       "0      21   9  0.700  73.0  67.3      3.5 -2.2   \n",
       "1      15   9  0.625  74.3  67.8      1.8 -0.2   \n",
       "2      16   9  0.640  79.6  68.9      6.0 -1.7   \n",
       "3      18   8  0.692  72.6  69.3     -1.5 -2.9   \n",
       "4      13  12  0.520  69.4  66.2      1.6  0.3   \n",
       "5      13  12  0.520  80.0  75.9     -0.4 -0.8   \n",
       "6      18  11  0.621  76.7  71.8      1.3 -1.6   \n",
       "7      13  12  0.520  80.8  78.4     -6.1 -1.5   \n",
       "8      11  16  0.407  75.5  78.9     -7.4 -2.0   \n",
       "9       6  13  0.316  76.8  79.5     -8.9 -1.6   \n",
       "\n",
       "                                 Unnamed: 12_level_0  \n",
       "                                               Notes  \n",
       "0  NCAA Tournament; Reg. Season Champion; Conf. T...  \n",
       "1                                                NaN  \n",
       "2                                                NaN  \n",
       "3                                                NaN  \n",
       "4                                                NaN  \n",
       "5                                                NaN  \n",
       "6                                                NaN  \n",
       "7                                                NaN  \n",
       "8                                                NaN  \n",
       "9                                                NaN  >"
      ]
     },
     "execution_count": 69,
     "metadata": {},
     "output_type": "execute_result"
    }
   ],
   "source": [
    "southern_basic = pd.read_html('https://www.sports-reference.com/cbb/conferences/southern/2021.html#standings')\n",
    "southern_conf_stats = southern_basic[0]\n",
    "southern_conf_stats.info"
   ]
  },
  {
   "cell_type": "code",
   "execution_count": 70,
   "metadata": {},
   "outputs": [
    {
     "data": {
      "text/plain": [
       "<bound method DataFrame.info of    Unnamed: 0_level_0        Unnamed: 1_level_0 Conference            Overall  \\\n",
       "                   Rk                    School          W   L   W-L%       W   \n",
       "0                   1            Nicholls State         14   2  0.875      18   \n",
       "1                   2         Abilene Christian         13   2  0.867      24   \n",
       "2                   3         Stephen F. Austin         13   3  0.813      16   \n",
       "3                   3         Sam Houston State         13   3  0.813      19   \n",
       "4                   5        Northwestern State          9   7  0.563      11   \n",
       "5                   6               New Orleans          8   7  0.533      10   \n",
       "6                   7                     Lamar          7  10  0.412      10   \n",
       "7                   8            Incarnate Word          5   9  0.357       8   \n",
       "8                   9    Southeastern Louisiana          5  11  0.313       8   \n",
       "9                  10             McNeese State          4  11  0.267      10   \n",
       "10                 10           Houston Baptist          4  11  0.267       6   \n",
       "11                 12          Central Arkansas          4  12  0.250       5   \n",
       "12                 13  Texas A&M-Corpus Christi          2  13  0.133       5   \n",
       "\n",
       "              PTS/G       Advanced        \\\n",
       "     L   W-L%   Own   Opp      SRS   SOS   \n",
       "0    7  0.720  78.4  73.2     -5.2  -8.7   \n",
       "1    5  0.828  75.7  60.4      6.3  -6.4   \n",
       "2    5  0.762  80.3  70.7     -1.6  -8.5   \n",
       "3    9  0.679  79.6  70.3     -3.3  -4.9   \n",
       "4   18  0.379  72.6  79.7    -13.5  -4.9   \n",
       "5   15  0.400  76.0  76.4    -10.9  -9.7   \n",
       "6   18  0.357  65.8  72.4    -13.1  -6.6   \n",
       "7   14  0.364  68.0  71.7    -15.9  -8.3   \n",
       "8   18  0.308  68.3  77.7    -17.4  -8.0   \n",
       "9   14  0.417  80.3  71.8    -18.3 -11.5   \n",
       "10  19  0.240  71.0  80.3    -16.7  -5.7   \n",
       "11  19  0.208  70.9  80.5    -14.9  -2.0   \n",
       "12  19  0.208  64.8  71.5    -16.8  -6.1   \n",
       "\n",
       "                           Unnamed: 12_level_0  \n",
       "                                         Notes  \n",
       "0                         Reg. Season Champion  \n",
       "1   NCAA Tournament; Conf. Tournament Champion  \n",
       "2                                          NaN  \n",
       "3                                          NaN  \n",
       "4                                          NaN  \n",
       "5                                          NaN  \n",
       "6                                          NaN  \n",
       "7                                          NaN  \n",
       "8                                          NaN  \n",
       "9                                          NaN  \n",
       "10                                         NaN  \n",
       "11                                         NaN  \n",
       "12                                         NaN  >"
      ]
     },
     "execution_count": 70,
     "metadata": {},
     "output_type": "execute_result"
    }
   ],
   "source": [
    "southland_basic = pd.read_html('https://www.sports-reference.com/cbb/conferences/southland/2021.html#standings')\n",
    "southland_conf_stats = southland_basic[0]\n",
    "southland_conf_stats.info"
   ]
  },
  {
   "cell_type": "code",
   "execution_count": 71,
   "metadata": {},
   "outputs": [
    {
     "data": {
      "text/plain": [
       "<bound method DataFrame.info of   Unnamed: 0_level_0  Unnamed: 1_level_0 Conference            Overall      \\\n",
       "                  Rk              School          W   L   W-L%       W   L   \n",
       "0                  1  South Dakota State          9   3  0.750      16   7   \n",
       "1                  2        South Dakota         11   4  0.733      14  11   \n",
       "2                  3  North Dakota State         11   5  0.688      15  12   \n",
       "3                  4        Oral Roberts         10   5  0.667      18  11   \n",
       "4                  5         Kansas City          7   7  0.500      11  13   \n",
       "5                  5        North Dakota          8   8  0.500       9  17   \n",
       "6                  7    Western Illinois          5   9  0.357       7  15   \n",
       "7                  8               Omaha          3  11  0.214       5  20   \n",
       "8                  9              Denver          1  13  0.071       2  19   \n",
       "\n",
       "         PTS/G       Advanced                              Unnamed: 12_level_0  \n",
       "    W-L%   Own   Opp      SRS  SOS                                       Notes  \n",
       "0  0.696  80.4  73.5      3.3 -2.1                        Reg. Season Champion  \n",
       "1  0.560  76.0  72.2     -1.2 -3.5                                         NaN  \n",
       "2  0.556  69.7  67.7     -0.6 -2.7                                         NaN  \n",
       "3  0.621  81.1  75.6      1.7  0.0  NCAA Tournament; Conf. Tournament Champion  \n",
       "4  0.458  70.1  62.6     -4.9 -2.7                                         NaN  \n",
       "5  0.346  68.7  75.7    -10.4 -3.4                                         NaN  \n",
       "6  0.318  73.0  79.4    -12.5 -4.6                                         NaN  \n",
       "7  0.200  67.3  78.0    -12.7 -2.1                                         NaN  \n",
       "8  0.095  69.8  79.1    -16.4 -5.8                                         NaN  >"
      ]
     },
     "execution_count": 71,
     "metadata": {},
     "output_type": "execute_result"
    }
   ],
   "source": [
    "summit_league_basic = pd.read_html('https://www.sports-reference.com/cbb/conferences/summit/2021.html#standings')\n",
    "summit_league_conf_stats = summit_league_basic[0]\n",
    "summit_league_conf_stats.info"
   ]
  },
  {
   "cell_type": "code",
   "execution_count": 72,
   "metadata": {},
   "outputs": [
    {
     "data": {
      "text/plain": [
       "<bound method DataFrame.info of    Unnamed: 0_level_0 Unnamed: 1_level_0 Conference            Overall      \\\n",
       "                   Rk             School          W   L   W-L%       W   L   \n",
       "0                   1        Texas State         12   3  0.800      18   7   \n",
       "1                   2      Georgia State          8   4  0.667      16   6   \n",
       "2                   3   Coastal Carolina          9   5  0.643      18   8   \n",
       "3                   4          Louisiana         10   7  0.588      17   9   \n",
       "4                   4      South Alabama         10   7  0.588      17  11   \n",
       "5                   6    Texas-Arlington          9   8  0.529      13  13   \n",
       "6                   7  Appalachian State          7   8  0.467      17  12   \n",
       "7                   7     Arkansas State          7   8  0.467      11  13   \n",
       "8                   9   Georgia Southern          7   9  0.438      13  13   \n",
       "9                  10        Little Rock          7  11  0.389      11  15   \n",
       "10                 11   Louisiana-Monroe          5  13  0.278       7  19   \n",
       "11                 12               Troy          4  12  0.250      11  17   \n",
       "\n",
       "          PTS/G       Advanced       \\\n",
       "     W-L%   Own   Opp      SRS  SOS   \n",
       "0   0.720  66.4  61.7     -3.9 -7.4   \n",
       "1   0.727  80.3  72.7     -1.7 -4.6   \n",
       "2   0.692  79.5  68.2     -2.7 -7.6   \n",
       "3   0.654  74.4  72.8     -4.8 -5.5   \n",
       "4   0.607  74.1  70.9     -6.0 -5.9   \n",
       "5   0.500  73.7  70.3     -7.2 -4.6   \n",
       "6   0.586  70.3  64.1     -5.8 -5.7   \n",
       "7   0.458  72.5  69.5     -8.0 -5.9   \n",
       "8   0.500  71.5  67.8    -10.2 -6.3   \n",
       "9   0.423  68.7  68.5     -6.4 -5.4   \n",
       "10  0.269  64.2  68.9    -10.6 -5.9   \n",
       "11  0.393  65.3  69.4    -12.1 -4.1   \n",
       "\n",
       "                           Unnamed: 12_level_0  \n",
       "                                         Notes  \n",
       "0                         Reg. Season Champion  \n",
       "1                         Reg. Season Champion  \n",
       "2                                          NaN  \n",
       "3                                          NaN  \n",
       "4                                          NaN  \n",
       "5                                          NaN  \n",
       "6   NCAA Tournament; Conf. Tournament Champion  \n",
       "7                                          NaN  \n",
       "8                                          NaN  \n",
       "9                                          NaN  \n",
       "10                                         NaN  \n",
       "11                                         NaN  >"
      ]
     },
     "execution_count": 72,
     "metadata": {},
     "output_type": "execute_result"
    }
   ],
   "source": [
    "sun_belt_basic = pd.read_html('https://www.sports-reference.com/cbb/conferences/sun-belt/2021.html#standings')\n",
    "sun_belt_conf_stats = sun_belt_basic[0]\n",
    "sun_belt_conf_stats.info"
   ]
  },
  {
   "cell_type": "code",
   "execution_count": 73,
   "metadata": {},
   "outputs": [
    {
     "data": {
      "text/plain": [
       "<bound method DataFrame.info of   Unnamed: 0_level_0        Unnamed: 1_level_0 Conference            Overall  \\\n",
       "                  Rk                    School          W   L   W-L%       W   \n",
       "0                  1              Prairie View         13   0  1.000      16   \n",
       "1                  1             Jackson State         11   0  1.000      12   \n",
       "2                  3            Texas Southern         10   3  0.769      17   \n",
       "3                  4                 Grambling          9   6  0.600      12   \n",
       "4                  5                  Southern          8   6  0.571       8   \n",
       "5                  6              Alcorn State          6   7  0.462       6   \n",
       "6                  7               Alabama A&M          4   9  0.308       6   \n",
       "7                  8             Alabama State          4  14  0.222       4   \n",
       "8                  9       Arkansas-Pine Bluff          3  12  0.200       4   \n",
       "9                 10  Mississippi Valley State          2  13  0.133       2   \n",
       "\n",
       "             PTS/G       Advanced        \\\n",
       "    L   W-L%   Own   Opp      SRS   SOS   \n",
       "0   5  0.762  71.3  64.2     -8.0 -15.1   \n",
       "1   6  0.667  65.6  62.8    -11.3 -14.1   \n",
       "2   9  0.654  73.9  69.5     -6.2  -9.0   \n",
       "3  12  0.500  67.4  68.7    -14.3 -12.5   \n",
       "4  11  0.421  69.8  70.3    -13.5 -13.1   \n",
       "5  13  0.316  66.1  75.6    -19.6 -10.1   \n",
       "6   9  0.400  63.3  67.2    -18.9 -15.0   \n",
       "7  14  0.222  64.2  71.6    -24.3 -16.9   \n",
       "8  21  0.160  62.0  76.8    -22.7  -7.8   \n",
       "9  22  0.083  56.8  87.4    -38.2  -7.6   \n",
       "\n",
       "                          Unnamed: 12_level_0  \n",
       "                                        Notes  \n",
       "0                        Reg. Season Champion  \n",
       "1                                         NaN  \n",
       "2  NCAA Tournament; Conf. Tournament Champion  \n",
       "3                                         NaN  \n",
       "4                                         NaN  \n",
       "5                                         NaN  \n",
       "6                                         NaN  \n",
       "7                                         NaN  \n",
       "8                                         NaN  \n",
       "9                                         NaN  >"
      ]
     },
     "execution_count": 73,
     "metadata": {},
     "output_type": "execute_result"
    }
   ],
   "source": [
    "southwest_athletic_basic = pd.read_html('https://www.sports-reference.com/cbb/conferences/swac/2021.html#standings')\n",
    "southwest_athletic_conf_stats = southwest_athletic_basic[0]\n",
    "southwest_athletic_conf_stats.info"
   ]
  },
  {
   "cell_type": "code",
   "execution_count": 74,
   "metadata": {},
   "outputs": [
    {
     "data": {
      "text/plain": [
       "<bound method DataFrame.info of   Unnamed: 0_level_0       Unnamed: 1_level_0 Conference            Overall  \\\n",
       "                  Rk                   School          W   L   W-L%       W   \n",
       "0                  1             Grand Canyon          9   3  0.750      17   \n",
       "1                  2              Utah Valley          9   4  0.692      11   \n",
       "2                  3         New Mexico State          7   6  0.538      12   \n",
       "3                  4       California Baptist          6   6  0.500      13   \n",
       "4                  4            Chicago State          0   0    NaN       0   \n",
       "5                  6                  Seattle          4   5  0.444      12   \n",
       "6                  7           Tarleton State          5   7  0.417      10   \n",
       "7                  8  Texas-Rio Grande Valley          2   5  0.286       9   \n",
       "8                  8              Dixie State          4  10  0.286       8   \n",
       "\n",
       "             PTS/G       Advanced       \\\n",
       "    L   W-L%   Own   Opp      SRS  SOS   \n",
       "0   7  0.708  75.5  62.1      5.1 -3.5   \n",
       "1  11  0.500  74.2  74.3     -3.4 -1.6   \n",
       "2   8  0.600  71.1  64.2     -1.2 -5.1   \n",
       "3  10  0.565  79.1  72.8     -5.3 -5.0   \n",
       "4   9  0.000  55.4  88.7    -31.8  1.4   \n",
       "5  11  0.522  72.9  68.6     -5.2 -3.5   \n",
       "6  10  0.500  73.4  62.3     -7.3 -3.0   \n",
       "7  10  0.474  72.4  67.7     -9.6 -5.2   \n",
       "8  13  0.381  69.6  76.3    -14.0 -3.4   \n",
       "\n",
       "                                 Unnamed: 12_level_0  \n",
       "                                               Notes  \n",
       "0  NCAA Tournament; Reg. Season Champion; Conf. T...  \n",
       "1                                                NaN  \n",
       "2                                                NaN  \n",
       "3                                                NaN  \n",
       "4                                                NaN  \n",
       "5                                                NaN  \n",
       "6                                                NaN  \n",
       "7                                                NaN  \n",
       "8                                                NaN  >"
      ]
     },
     "execution_count": 74,
     "metadata": {},
     "output_type": "execute_result"
    }
   ],
   "source": [
    "western_athletic_basic = pd.read_html('https://www.sports-reference.com/cbb/conferences/wac/2021.html#standings')\n",
    "western_athletic_conf_stats = western_athletic_basic[0]\n",
    "western_athletic_conf_stats.info"
   ]
  },
  {
   "cell_type": "code",
   "execution_count": 75,
   "metadata": {},
   "outputs": [
    {
     "data": {
      "text/plain": [
       "<bound method DataFrame.info of   Unnamed: 0_level_0 Unnamed: 1_level_0 Conference            Overall      \\\n",
       "                  Rk             School          W   L   W-L%       W   L   \n",
       "0                  1            Gonzaga         15   0  1.000      31   1   \n",
       "1                  2      Brigham Young         10   3  0.769      20   7   \n",
       "2                  3   Loyola Marymount          7   5  0.583      13   9   \n",
       "3                  4         Pepperdine          7   6  0.538      15  12   \n",
       "4                  5            Pacific          6   7  0.462       9   9   \n",
       "5                  6        Santa Clara          4   5  0.444      12   8   \n",
       "6                  7  Saint Mary's (CA)          4   6  0.400      14  10   \n",
       "7                  8      San Francisco          4   9  0.308      11  14   \n",
       "8                  9          San Diego          2   7  0.222       3  11   \n",
       "9                 10           Portland          0  11  0.000       6  15   \n",
       "\n",
       "         PTS/G       Advanced       \\\n",
       "    W-L%   Own   Opp      SRS  SOS   \n",
       "0  0.969  91.0  69.7     27.2  5.9   \n",
       "1  0.741  78.1  68.6     15.2  7.2   \n",
       "2  0.591  69.5  68.0      5.5  4.0   \n",
       "3  0.556  76.9  73.6      5.6  5.0   \n",
       "4  0.500  69.8  70.7      2.6  5.2   \n",
       "5  0.600  69.7  70.6      0.0  2.2   \n",
       "6  0.583  64.3  62.6      8.1  6.4   \n",
       "7  0.440  71.4  69.3      6.0  3.8   \n",
       "8  0.214  66.2  77.1     -5.2  5.6   \n",
       "9  0.286  69.5  83.2    -12.6  5.1   \n",
       "\n",
       "                                 Unnamed: 12_level_0  \n",
       "                                               Notes  \n",
       "0  NCAA Tournament; Reg. Season Champion; Conf. T...  \n",
       "1                                    NCAA Tournament  \n",
       "2                                                NaN  \n",
       "3                                                NaN  \n",
       "4                                                NaN  \n",
       "5                                                NaN  \n",
       "6                                                NaN  \n",
       "7                                                NaN  \n",
       "8                                                NaN  \n",
       "9                                                NaN  >"
      ]
     },
     "execution_count": 75,
     "metadata": {},
     "output_type": "execute_result"
    }
   ],
   "source": [
    "west_coast_basic = pd.read_html('https://www.sports-reference.com/cbb/conferences/wcc/2021.html#standings')\n",
    "west_coast_conf_stats = west_coast_basic[0]\n",
    "west_coast_conf_stats.info"
   ]
  }
 ],
 "metadata": {
  "interpreter": {
   "hash": "b0fa6594d8f4cbf19f97940f81e996739fb7646882a419484c72d19e05852a7e"
  },
  "kernelspec": {
   "display_name": "Python 3.9.9 64-bit",
   "language": "python",
   "name": "python3"
  },
  "language_info": {
   "codemirror_mode": {
    "name": "ipython",
    "version": 3
   },
   "file_extension": ".py",
   "mimetype": "text/x-python",
   "name": "python",
   "nbconvert_exporter": "python",
   "pygments_lexer": "ipython3",
   "version": "3.9.9"
  },
  "orig_nbformat": 4
 },
 "nbformat": 4,
 "nbformat_minor": 2
}
