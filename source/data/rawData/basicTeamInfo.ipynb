{
 "cells": [
  {
   "cell_type": "code",
   "execution_count": 22,
   "metadata": {},
   "outputs": [
    {
     "data": {
      "text/plain": [
       "<bound method DataFrame.info of     Unnamed: 0_level_0      Unnamed: 1_level_0 Overall                        \\\n",
       "                    Rk                  School       G   W   L  W-L%     SRS   \n",
       "0                    1  Abilene Christian NCAA      34  27   7  .794   -1.91   \n",
       "1                    2               Air Force      32  14  18  .438   -4.28   \n",
       "2                    3                   Akron      33  17  16  .515    4.86   \n",
       "3                    4             Alabama A&M      32   5  27  .156  -19.23   \n",
       "4                    5      Alabama-Birmingham      35  20  15  .571    0.36   \n",
       "..                 ...                     ...     ...  ..  ..   ...     ...   \n",
       "382                349            Wright State      35  21  14  .600    3.29   \n",
       "383                350                 Wyoming      32   8  24  .250   -9.75   \n",
       "384                351                  Xavier      35  19  16  .543    9.61   \n",
       "385                352               Yale NCAA      30  22   8  .733    5.52   \n",
       "386                353        Youngstown State      32  12  20  .375   -7.78   \n",
       "\n",
       "           Unnamed: 8_level_0 Conf.  ... Totals                             \\\n",
       "       SOS Unnamed: 8_level_1     W  ...     FT  FTA   FT%  ORB   TRB  AST   \n",
       "0    -7.34                NaN    14  ...    457  642  .712  325  1110  525   \n",
       "1     0.24                NaN     8  ...    341  503  .678  253  1077  434   \n",
       "2     1.09                NaN     8  ...    380  539  .705  312  1204  399   \n",
       "3    -8.38                NaN     4  ...    284  453  .627  314  1032  385   \n",
       "4    -1.52                NaN    10  ...    424  630  .673  367  1279  401   \n",
       "..     ...                ...   ...  ...    ...  ...   ...  ...   ...  ...   \n",
       "382  -0.89                NaN    13  ...    510  692  .737  382  1229  484   \n",
       "383   0.19                NaN     4  ...    477  660  .723  167   983  331   \n",
       "384   8.06                NaN     9  ...    437  644  .679  371  1281  519   \n",
       "385  -1.24                NaN    10  ...    411  557  .738  259  1157  503   \n",
       "386  -2.05                NaN     8  ...    354  505  .701  418  1207  449   \n",
       "\n",
       "                         \n",
       "     STL  BLK  TOV   PF  \n",
       "0    297   93  407  635  \n",
       "1    154   57  423  543  \n",
       "2    185  106  388  569  \n",
       "3    234   50  487  587  \n",
       "4    218   82  399  578  \n",
       "..   ...  ...  ...  ...  \n",
       "382  214   72  402  545  \n",
       "383  176   88  450  588  \n",
       "384  190  128  450  550  \n",
       "385  177  131  392  510  \n",
       "386  210  115  423  656  \n",
       "\n",
       "[387 rows x 38 columns]>"
      ]
     },
     "execution_count": 22,
     "metadata": {},
     "output_type": "execute_result"
    }
   ],
   "source": [
    "import pandas as pd\n",
    "import numpy as np\n",
    "import matplotlib as plt\n",
    "import seaborn as sns\n",
    "\n",
    "df = pd.read_html('https://www.sports-reference.com/cbb/seasons/2019-school-stats.html#basic_school_stats')\n",
    "team_data = df[0]\n",
    "team_data.info\n"
   ]
  },
  {
   "cell_type": "code",
   "execution_count": null,
   "metadata": {},
   "outputs": [],
   "source": []
  },
  {
   "cell_type": "code",
   "execution_count": 30,
   "metadata": {},
   "outputs": [],
   "source": [
    "big_ten_basic = pd.read_html('https://www.sports-reference.com/cbb/conferences/big-ten/2021.html#standings', index_col=0)\n",
    "big_ten_conf_stats = big_ten_basic[0]"
   ]
  },
  {
   "cell_type": "code",
   "execution_count": null,
   "metadata": {},
   "outputs": [],
   "source": []
  }
 ],
 "metadata": {
  "interpreter": {
   "hash": "b0fa6594d8f4cbf19f97940f81e996739fb7646882a419484c72d19e05852a7e"
  },
  "kernelspec": {
   "display_name": "Python 3.9.9 64-bit",
   "language": "python",
   "name": "python3"
  },
  "language_info": {
   "codemirror_mode": {
    "name": "ipython",
    "version": 3
   },
   "file_extension": ".py",
   "mimetype": "text/x-python",
   "name": "python",
   "nbconvert_exporter": "python",
   "pygments_lexer": "ipython3",
   "version": "3.8.3"
  },
  "orig_nbformat": 4
 },
 "nbformat": 4,
 "nbformat_minor": 2
}
