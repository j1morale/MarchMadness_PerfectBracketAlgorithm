{
 "cells": [
  {
   "cell_type": "code",
   "execution_count": 92,
   "metadata": {},
   "outputs": [],
   "source": [
    "import pandas as pd\n",
    "import numpy as np\n",
    "import matplotlib as plt\n",
    "import seaborn as sns\n",
    "\n",
    "df = pd.read_html('https://www.sports-reference.com/cbb/seasons/2019-school-stats.html#basic_school_stats')\n",
    "team_data = df[0]\n",
    "##team_data.info"
   ]
  },
  {
   "cell_type": "code",
   "execution_count": 93,
   "metadata": {},
   "outputs": [],
   "source": [
    "bt_basic = pd.read_html('https://www.sports-reference.com/cbb/conferences/big-ten/2021.html#standings', index_col=0)\n",
    "bt_conf_stats = bt_basic[0]\n",
    "bt_conf_stats.columns = bt_conf_stats.columns.droplevel(0)\n",
    "##big_ten_conf_stats.info\n",
    "bt_team_names = bt_conf_stats['School'].to_frame(name = 'School')\n",
    "for team in bt_team_names:\n",
    "   bt_team_names['Conference'] = 'Big Ten'\n",
    "\n",
    "all_teams =  bt_team_names"
   ]
  },
  {
   "cell_type": "code",
   "execution_count": 94,
   "metadata": {},
   "outputs": [],
   "source": [
    "american_athletic_basic = pd.read_html('https://www.sports-reference.com/cbb/conferences/aac/2021.html#standings', index_col=0)\n",
    "american_athletic_conf_stats = american_athletic_basic[0]\n",
    "\n",
    "american_athletic_conf_stats.columns = american_athletic_conf_stats.columns.droplevel(0)\n",
    "aac_team_names = american_athletic_conf_stats['School'].to_frame(name = 'School')\n",
    "for team in aac_team_names:\n",
    "   aac_team_names['Conference'] = 'AAC'\n",
    "\n",
    "all_teams = all_teams.append(aac_team_names)\n",
    "\n"
   ]
  },
  {
   "cell_type": "code",
   "execution_count": 95,
   "metadata": {},
   "outputs": [],
   "source": [
    "atlantic_coast_basic = pd.read_html('https://www.sports-reference.com/cbb/conferences/acc/2021.html#standings')\n",
    "atlantic_coast_conf_stats = atlantic_coast_basic[0]\n",
    "##atlantic_coast_conf_stats.info\n",
    "\n",
    "atlantic_coast_conf_stats.columns = atlantic_coast_conf_stats.columns.droplevel(0)\n",
    "acc_team_names = atlantic_coast_conf_stats['School'].to_frame(name = 'School')\n",
    "for team in acc_team_names:\n",
    "   acc_team_names['Conference'] = 'ACC'\n",
    "\n",
    "all_teams = all_teams.append(acc_team_names)"
   ]
  },
  {
   "cell_type": "code",
   "execution_count": 96,
   "metadata": {},
   "outputs": [],
   "source": [
    "america_east_basic = pd.read_html('https://www.sports-reference.com/cbb/conferences/america-east/2021.html#standings')\n",
    "america_east_conf_stats = america_east_basic[0]\n",
    "##america_east_conf_stats.info\n",
    "\n",
    "america_east_conf_stats.columns = america_east_conf_stats.columns.droplevel(0)\n",
    "america_east_team_names = america_east_conf_stats['School'].to_frame(name = 'School')\n",
    "for team in america_east_team_names:\n",
    "   america_east_team_names['Conference'] = 'America East'\n",
    "\n",
    "all_teams = all_teams.append(america_east_team_names)"
   ]
  },
  {
   "cell_type": "code",
   "execution_count": 97,
   "metadata": {},
   "outputs": [],
   "source": [
    "atlantic_10_basic = pd.read_html('https://www.sports-reference.com/cbb/conferences/atlantic-10/2021.html#standings')\n",
    "atlantic_10_conf_stats = atlantic_10_basic[0]\n",
    "##atlantic_10_conf_stats.info\n",
    "\n",
    "atlantic_10_conf_stats.columns = atlantic_10_conf_stats.columns.droplevel(0)\n",
    "atlantic_10_team_names = atlantic_10_conf_stats['School'].to_frame(name = 'School')\n",
    "for team in atlantic_10_team_names:\n",
    "   atlantic_10_team_names['Conference'] = 'Atlantic 10'\n",
    "\n",
    "all_teams = all_teams.append(atlantic_10_team_names)"
   ]
  },
  {
   "cell_type": "code",
   "execution_count": 98,
   "metadata": {},
   "outputs": [],
   "source": [
    "atlantic_sun_basic = pd.read_html('https://www.sports-reference.com/cbb/conferences/atlantic-sun/2022.html')\n",
    "atlantic_sun_conf_stats = atlantic_sun_basic[0]\n",
    "##atlantic_sun_conf_stats.info\n",
    "\n",
    "atlantic_sun_conf_stats.columns = atlantic_sun_conf_stats.columns.droplevel(0)\n",
    "atlantic_sun_team_names = atlantic_sun_conf_stats['School'].to_frame(name = 'School')\n",
    "for team in atlantic_sun_team_names:\n",
    "   atlantic_sun_team_names['Conference'] = 'Atlantic Sun'\n",
    "\n",
    "all_teams = all_teams.append(atlantic_sun_team_names)"
   ]
  },
  {
   "cell_type": "code",
   "execution_count": 99,
   "metadata": {},
   "outputs": [],
   "source": [
    "big_12_basic = pd.read_html('https://www.sports-reference.com/cbb/conferences/big-12/2021.html#standings')\n",
    "big_12_conf_stats = big_12_basic[0]\n",
    "##big_12_conf_stats.info\n",
    "\n",
    "big_12_conf_stats.columns = big_12_conf_stats.columns.droplevel(0)\n",
    "big_12_team_names = big_12_conf_stats['School'].to_frame(name = 'School')\n",
    "for team in big_12_team_names:\n",
    "   big_12_team_names['Conference'] = 'Big 12'\n",
    "\n",
    "all_teams = all_teams.append(big_12_team_names)"
   ]
  },
  {
   "cell_type": "code",
   "execution_count": 100,
   "metadata": {},
   "outputs": [],
   "source": [
    "big_east_basic = pd.read_html('https://www.sports-reference.com/cbb/conferences/big-east/2021.html#standings')\n",
    "big_east_conf_stats = big_east_basic[0]\n",
    "##big_east_conf_stats.info\n",
    "\n",
    "big_east_conf_stats.columns = big_east_conf_stats.columns.droplevel(0)\n",
    "big_east_team_names = big_east_conf_stats['School'].to_frame(name = 'School')\n",
    "for team in big_east_team_names:\n",
    "   big_east_team_names['Conference'] = 'Big East'\n",
    "\n",
    "all_teams = all_teams.append(big_east_team_names)"
   ]
  },
  {
   "cell_type": "code",
   "execution_count": 101,
   "metadata": {},
   "outputs": [],
   "source": [
    "big_sky_basic = pd.read_html('https://www.sports-reference.com/cbb/conferences/big-sky/2021.html#standings')\n",
    "big_sky_conf_stats = big_sky_basic[0]\n",
    "##big_sky_conf_stats.info\n",
    "\n",
    "big_sky_conf_stats.columns = big_sky_conf_stats.columns.droplevel(0)\n",
    "big_sky_team_names = big_sky_conf_stats['School'].to_frame(name = 'School')\n",
    "for team in big_sky_team_names:\n",
    "   big_sky_team_names['Conference'] = 'Big Sky'\n",
    "\n",
    "all_teams = all_teams.append(big_sky_team_names)"
   ]
  },
  {
   "cell_type": "code",
   "execution_count": 102,
   "metadata": {},
   "outputs": [],
   "source": [
    "big_south_basic = pd.read_html('https://www.sports-reference.com/cbb/conferences/big-south/2021.html#standings')\n",
    "big_south_conf_stats = big_south_basic[0]\n",
    "##big_south_conf_stats.info\n",
    "\n",
    "big_south_conf_stats.columns = big_south_conf_stats.columns.droplevel(0)\n",
    "big_south_team_names = big_south_conf_stats['School'].to_frame(name = 'School')\n",
    "for team in big_south_team_names:\n",
    "   big_south_team_names['Conference'] = 'Big South'\n",
    "\n",
    "all_teams = all_teams.append(big_south_team_names)"
   ]
  },
  {
   "cell_type": "code",
   "execution_count": 103,
   "metadata": {},
   "outputs": [],
   "source": [
    "big_west_basic = pd.read_html('https://www.sports-reference.com/cbb/conferences/big-west/2021.html#standings')\n",
    "big_west_conf_stats = big_west_basic[0]\n",
    "##big_west_conf_stats.info\n",
    "\n",
    "big_west_conf_stats.columns = big_west_conf_stats.columns.droplevel(0)\n",
    "big_west_team_names = big_west_conf_stats['School'].to_frame(name = 'School')\n",
    "for team in big_west_team_names:\n",
    "   big_west_team_names['Conference'] = 'Big West'\n",
    "\n",
    "all_teams = all_teams.append(big_west_team_names)"
   ]
  },
  {
   "cell_type": "code",
   "execution_count": 104,
   "metadata": {},
   "outputs": [],
   "source": [
    "colonial_athletic_basic = pd.read_html('https://www.sports-reference.com/cbb/conferences/colonial/2021.html')\n",
    "colonial_athletic_conf_stats = colonial_athletic_basic[0]\n",
    "##colonial_athletic_conf_stats.info\n",
    "\n",
    "colonial_athletic_conf_stats.columns = colonial_athletic_conf_stats.columns.droplevel(0)\n",
    "colonial_team_names = colonial_athletic_conf_stats['School'].to_frame(name = 'School')\n",
    "for team in colonial_team_names:\n",
    "   colonial_team_names['Conference'] = 'Colonial'\n",
    "\n",
    "all_teams = all_teams.append(colonial_team_names)"
   ]
  },
  {
   "cell_type": "code",
   "execution_count": 105,
   "metadata": {},
   "outputs": [],
   "source": [
    "conference_usa_basic = pd.read_html('https://www.sports-reference.com/cbb/conferences/cusa/2021.html#standings')\n",
    "conference_athletic_conf_stats = conference_usa_basic[0]\n",
    "##colonial_athletic_conf_stats.info\n",
    "\n",
    "conference_athletic_conf_stats.columns = conference_athletic_conf_stats.columns.droplevel(0)\n",
    "conference_athletic_team_names = conference_athletic_conf_stats['School'].to_frame(name = 'School')\n",
    "for team in conference_athletic_team_names:\n",
    "   conference_athletic_team_names['Conference'] = 'Conference Athletic'\n",
    "\n",
    "all_teams = all_teams.append(conference_athletic_team_names)"
   ]
  },
  {
   "cell_type": "code",
   "execution_count": 106,
   "metadata": {},
   "outputs": [],
   "source": [
    "horizon_usa_basic = pd.read_html('https://www.sports-reference.com/cbb/conferences/horizon/2021.html#standings')\n",
    "horizon_conf_stats = horizon_usa_basic[0]\n",
    "##horizon_conf_stats.info\n",
    "\n",
    "horizon_conf_stats.columns = horizon_conf_stats.columns.droplevel(0)\n",
    "horizon_team_names = horizon_conf_stats['School'].to_frame(name = 'School')\n",
    "for team in horizon_team_names:\n",
    "   horizon_team_names['Conference'] = 'Horizon'\n",
    "\n",
    "all_teams = all_teams.append(horizon_team_names)"
   ]
  },
  {
   "cell_type": "code",
   "execution_count": 107,
   "metadata": {},
   "outputs": [],
   "source": [
    "ivy_league_basic = pd.read_html('https://www.sports-reference.com/cbb/conferences/ivy/2021.html#standings')\n",
    "ivy_league_stats = ivy_league_basic[0]\n",
    "##ivy_league_stats.info\n",
    "\n",
    "ivy_league_stats.columns = ivy_league_stats.columns.droplevel(0)\n",
    "ivy_league_team_names = ivy_league_stats['School'].to_frame(name = 'School')\n",
    "for team in ivy_league_team_names:\n",
    "   ivy_league_team_names['Conference'] = 'Ivy League'\n",
    "\n",
    "all_teams = all_teams.append(ivy_league_team_names)"
   ]
  },
  {
   "cell_type": "code",
   "execution_count": 108,
   "metadata": {},
   "outputs": [],
   "source": [
    "metro_atlantic_athletic_basic = pd.read_html('https://www.sports-reference.com/cbb/conferences/maac/2021.html#standings')\n",
    "metro_atlantic_athletic_conf_stats = metro_atlantic_athletic_basic[0]\n",
    "##metro_atlantic_athletic_conf_stats.info\n",
    "\n",
    "metro_atlantic_athletic_conf_stats.columns = metro_atlantic_athletic_conf_stats.columns.droplevel(0)\n",
    "metro_atlantic_athletic_conf_team_names = metro_atlantic_athletic_conf_stats['School'].to_frame(name = 'School')\n",
    "for team in metro_atlantic_athletic_conf_team_names:\n",
    "   metro_atlantic_athletic_conf_team_names['Conference'] = 'MAAC'\n",
    "\n",
    "all_teams = all_teams.append(metro_atlantic_athletic_conf_team_names)"
   ]
  },
  {
   "cell_type": "code",
   "execution_count": 133,
   "metadata": {},
   "outputs": [],
   "source": [
    "mid_american_basic = pd.read_html('https://www.sports-reference.com/cbb/conferences/mac/2021.html#standings')\n",
    "mid_american_conf_stats = mid_american_basic[0]\n",
    "##mid_american_conf_stats.info\n",
    "\n",
    "mid_american_conf_stats.columns = mid_american_conf_stats.columns.droplevel(0)\n",
    "mid_american_conf_stats = mid_american_conf_stats.drop(6)\n",
    "mid_american_team_names = mid_american_conf_stats['East'].to_frame(name = 'School')\n",
    "for team in mid_american_team_names:\n",
    "   mid_american_team_names['Conference'] = 'MAC'\n",
    "\n",
    "all_teams = all_teams.append(mid_american_team_names)\n"
   ]
  },
  {
   "cell_type": "code",
   "execution_count": 110,
   "metadata": {},
   "outputs": [],
   "source": [
    "mid_eastern_athletic_basic = pd.read_html('https://www.sports-reference.com/cbb/conferences/meac/2021.html#standings')\n",
    "mid_eastern_athletic_conf_stats = mid_eastern_athletic_basic[0]\n",
    "##mid_american_conf_stats.info\n",
    "\n",
    "mid_eastern_athletic_conf_stats.columns = mid_eastern_athletic_conf_stats.columns.droplevel(0)\n",
    "mid_eastern_athletic_team_names = mid_eastern_athletic_conf_stats['School'].to_frame(name = 'School')\n",
    "for team in mid_eastern_athletic_team_names:\n",
    "   mid_eastern_athletic_team_names['Conference'] = 'MEAC'\n",
    "\n",
    "all_teams = all_teams.append(mid_eastern_athletic_team_names)"
   ]
  },
  {
   "cell_type": "code",
   "execution_count": 111,
   "metadata": {},
   "outputs": [],
   "source": [
    "missouri_valley_basic = pd.read_html('https://www.sports-reference.com/cbb/conferences/mvc/2021.html#standings')\n",
    "missouri_valley_conf_stats = missouri_valley_basic[0]\n",
    "##missouri_valley_conf_stats.info\n",
    "\n",
    "missouri_valley_conf_stats.columns = missouri_valley_conf_stats.columns.droplevel(0)\n",
    "missouri_valley_team_names = missouri_valley_conf_stats['School'].to_frame(name = 'School')\n",
    "for team in missouri_valley_team_names:\n",
    "   missouri_valley_team_names['Conference'] = 'MVC'\n",
    "\n",
    "all_teams = all_teams.append(missouri_valley_team_names)"
   ]
  },
  {
   "cell_type": "code",
   "execution_count": 112,
   "metadata": {},
   "outputs": [],
   "source": [
    "mountain_west_basic = pd.read_html('https://www.sports-reference.com/cbb/conferences/mwc/2021.html#standings')\n",
    "mountain_west_conf_stats = mountain_west_basic[0]\n",
    "##mountain_west_conf_stats.info\n",
    "\n",
    "mountain_west_conf_stats.columns = mountain_west_conf_stats.columns.droplevel(0)\n",
    "mountain_west_team_names = mountain_west_conf_stats['School'].to_frame(name = 'School')\n",
    "for team in mountain_west_team_names:\n",
    "   mountain_west_team_names['Conference'] = 'MWC'\n",
    "\n",
    "all_teams = all_teams.append(mountain_west_team_names)"
   ]
  },
  {
   "cell_type": "code",
   "execution_count": 113,
   "metadata": {},
   "outputs": [],
   "source": [
    "northeast_basic = pd.read_html('https://www.sports-reference.com/cbb/conferences/northeast/2021.html#standings')\n",
    "northeast_conf_stats = northeast_basic[0]\n",
    "##northeast_conf_stats.info\n",
    "\n",
    "northeast_conf_stats.columns = northeast_conf_stats.columns.droplevel(0)\n",
    "northeast_team_names = northeast_conf_stats['School'].to_frame(name = 'School')\n",
    "for team in northeast_team_names:\n",
    "   northeast_team_names['Conference'] = 'Northeast'\n",
    "\n",
    "all_teams = all_teams.append(northeast_team_names)"
   ]
  },
  {
   "cell_type": "code",
   "execution_count": 114,
   "metadata": {},
   "outputs": [],
   "source": [
    "ohio_valley_basic = pd.read_html('https://www.sports-reference.com/cbb/conferences/ovc/2021.html#standings')\n",
    "ohio_valley_conf_stats = ohio_valley_basic[0]\n",
    "##ohio_valley_conf_stats.info\n",
    "\n",
    "ohio_valley_conf_stats.columns = ohio_valley_conf_stats.columns.droplevel(0)\n",
    "ohio_valley_team_names = ohio_valley_conf_stats['School'].to_frame(name = 'School')\n",
    "for team in ohio_valley_team_names:\n",
    "   ohio_valley_team_names['Conference'] = 'Ohio Valley'\n",
    "\n",
    "all_teams = all_teams.append(ohio_valley_team_names)"
   ]
  },
  {
   "cell_type": "code",
   "execution_count": 115,
   "metadata": {},
   "outputs": [],
   "source": [
    "pac_12_basic = pd.read_html('https://www.sports-reference.com/cbb/conferences/pac-12/2021.html#standings')\n",
    "pac_12_conf_stats = pac_12_basic[0]\n",
    "##pac_12_conf_stats.info\n",
    "\n",
    "pac_12_conf_stats.columns = pac_12_conf_stats.columns.droplevel(0)\n",
    "pac_12_team_names = pac_12_conf_stats['School'].to_frame(name = 'School')\n",
    "for team in pac_12_team_names:\n",
    "   pac_12_team_names['Conference'] = 'Pac 12'\n",
    "\n",
    "all_teams = all_teams.append(pac_12_team_names)"
   ]
  },
  {
   "cell_type": "code",
   "execution_count": 116,
   "metadata": {},
   "outputs": [],
   "source": [
    "patriot_league_basic = pd.read_html('https://www.sports-reference.com/cbb/conferences/patriot/2021.html#standings')\n",
    "patriot_league_stats = patriot_league_basic[0]\n",
    "##patriot_league_stats.info\n",
    "\n",
    "patriot_league_stats.columns = patriot_league_stats.columns.droplevel(0)\n",
    "patriot_league_team_names = patriot_league_stats['School'].to_frame(name = 'School')\n",
    "for team in patriot_league_team_names:\n",
    "   patriot_league_team_names['Conference'] = 'Patriot'\n",
    "\n",
    "all_teams = all_teams.append(patriot_league_team_names)"
   ]
  },
  {
   "cell_type": "code",
   "execution_count": 117,
   "metadata": {},
   "outputs": [],
   "source": [
    "southeastern_basic = pd.read_html('https://www.sports-reference.com/cbb/conferences/sec/2021.html#standings')\n",
    "southeastern_conf_stats = southeastern_basic[0]\n",
    "###southeastern_conf_stats.info\n",
    "\n",
    "southeastern_conf_stats.columns = southeastern_conf_stats.columns.droplevel(0)\n",
    "southeastern_team_names = southeastern_conf_stats['School'].to_frame(name = 'School')\n",
    "for team in southeastern_team_names:\n",
    "   southeastern_team_names['Conference'] = 'SEC'\n",
    "\n",
    "all_teams = all_teams.append(southeastern_team_names)"
   ]
  },
  {
   "cell_type": "code",
   "execution_count": 118,
   "metadata": {},
   "outputs": [],
   "source": [
    "southern_basic = pd.read_html('https://www.sports-reference.com/cbb/conferences/southern/2021.html#standings')\n",
    "southern_conf_stats = southern_basic[0]\n",
    "##southern_conf_stats.info\n",
    "\n",
    "southern_conf_stats.columns = southern_conf_stats.columns.droplevel(0)\n",
    "southern_team_names = southern_conf_stats['School'].to_frame(name = 'School')\n",
    "for team in southern_team_names:\n",
    "   southern_team_names['Conference'] = 'Southern'\n",
    "\n",
    "all_teams = all_teams.append(southern_team_names)"
   ]
  },
  {
   "cell_type": "code",
   "execution_count": 119,
   "metadata": {},
   "outputs": [],
   "source": [
    "southland_basic = pd.read_html('https://www.sports-reference.com/cbb/conferences/southland/2021.html#standings')\n",
    "southland_conf_stats = southland_basic[0]\n",
    "##southland_conf_stats.info\n",
    "\n",
    "southland_conf_stats.columns = southland_conf_stats.columns.droplevel(0)\n",
    "southland_team_names = southland_conf_stats['School'].to_frame(name = 'School')\n",
    "for team in southland_team_names:\n",
    "   southland_team_names['Conference'] = 'Southland'\n",
    "\n",
    "all_teams = all_teams.append(southland_team_names)"
   ]
  },
  {
   "cell_type": "code",
   "execution_count": 120,
   "metadata": {},
   "outputs": [],
   "source": [
    "summit_league_basic = pd.read_html('https://www.sports-reference.com/cbb/conferences/summit/2021.html#standings')\n",
    "summit_league_conf_stats = summit_league_basic[0]\n",
    "##summit_league_conf_stats.info\n",
    "\n",
    "summit_league_conf_stats.columns = summit_league_conf_stats.columns.droplevel(0)\n",
    "summit_league_team_names = summit_league_conf_stats['School'].to_frame(name = 'School')\n",
    "for team in summit_league_team_names:\n",
    "   summit_league_team_names['Conference'] = 'Summit'\n",
    "\n",
    "all_teams = all_teams.append(summit_league_team_names)"
   ]
  },
  {
   "cell_type": "code",
   "execution_count": 121,
   "metadata": {},
   "outputs": [],
   "source": [
    "sun_belt_basic = pd.read_html('https://www.sports-reference.com/cbb/conferences/sun-belt/2021.html#standings')\n",
    "sun_belt_conf_stats = sun_belt_basic[0]\n",
    "##sun_belt_conf_stats.info\n",
    "\n",
    "sun_belt_conf_stats.columns = sun_belt_conf_stats.columns.droplevel(0)\n",
    "sun_belt_team_names = sun_belt_conf_stats['School'].to_frame(name = 'School')\n",
    "for team in sun_belt_team_names:\n",
    "   sun_belt_team_names['Conference'] = 'Sun Belt'\n",
    "\n",
    "all_teams = all_teams.append(sun_belt_team_names)"
   ]
  },
  {
   "cell_type": "code",
   "execution_count": 122,
   "metadata": {},
   "outputs": [],
   "source": [
    "southwest_athletic_basic = pd.read_html('https://www.sports-reference.com/cbb/conferences/swac/2021.html#standings')\n",
    "southwest_athletic_conf_stats = southwest_athletic_basic[0]\n",
    "##southwest_athletic_conf_stats.info\n",
    "\n",
    "southwest_athletic_conf_stats.columns = southwest_athletic_conf_stats.columns.droplevel(0)\n",
    "southwest_athletic_team_names = southwest_athletic_conf_stats['School'].to_frame(name = 'School')\n",
    "for team in southwest_athletic_team_names:\n",
    "   southwest_athletic_team_names['Conference'] = 'SWAC'\n",
    "\n",
    "all_teams = all_teams.append(southwest_athletic_team_names)"
   ]
  },
  {
   "cell_type": "code",
   "execution_count": 123,
   "metadata": {},
   "outputs": [],
   "source": [
    "western_athletic_basic = pd.read_html('https://www.sports-reference.com/cbb/conferences/wac/2021.html#standings')\n",
    "western_athletic_conf_stats = western_athletic_basic[0]\n",
    "##western_athletic_conf_stats.info\n",
    "\n",
    "western_athletic_conf_stats.columns = western_athletic_conf_stats.columns.droplevel(0)\n",
    "western_athletic_team_names = western_athletic_conf_stats['School'].to_frame(name = 'School')\n",
    "for team in western_athletic_team_names:\n",
    "   western_athletic_team_names['Conference'] = 'WAC'\n",
    "\n",
    "all_teams = all_teams.append(western_athletic_team_names)"
   ]
  },
  {
   "cell_type": "code",
   "execution_count": 124,
   "metadata": {},
   "outputs": [
    {
     "data": {
      "text/plain": [
       "<function all(iterable, /)>"
      ]
     },
     "execution_count": 124,
     "metadata": {},
     "output_type": "execute_result"
    }
   ],
   "source": [
    "west_coast_basic = pd.read_html('https://www.sports-reference.com/cbb/conferences/wcc/2021.html#standings')\n",
    "west_coast_conf_stats = west_coast_basic[0]\n",
    "##west_coast_conf_stats.info\n",
    "\n",
    "west_coast_conf_stats.columns = west_coast_conf_stats.columns.droplevel(0)\n",
    "west_coast_team_names = west_coast_conf_stats['School'].to_frame(name = 'School')\n",
    "for team in west_coast_team_names:\n",
    "   west_coast_team_names['Conference'] = 'WCC'\n",
    "\n",
    "all_teams = all_teams.append(west_coast_team_names)\n",
    "##all_teams"
   ]
  },
  {
   "cell_type": "code",
   "execution_count": 134,
   "metadata": {},
   "outputs": [
    {
     "data": {
      "text/html": [
       "<div>\n",
       "<style scoped>\n",
       "    .dataframe tbody tr th:only-of-type {\n",
       "        vertical-align: middle;\n",
       "    }\n",
       "\n",
       "    .dataframe tbody tr th {\n",
       "        vertical-align: top;\n",
       "    }\n",
       "\n",
       "    .dataframe thead th {\n",
       "        text-align: right;\n",
       "    }\n",
       "</style>\n",
       "<table border=\"1\" class=\"dataframe\">\n",
       "  <thead>\n",
       "    <tr style=\"text-align: right;\">\n",
       "      <th></th>\n",
       "      <th>School</th>\n",
       "      <th>Conference</th>\n",
       "    </tr>\n",
       "  </thead>\n",
       "  <tbody>\n",
       "    <tr>\n",
       "      <th>1</th>\n",
       "      <td>Michigan</td>\n",
       "      <td>Big Ten</td>\n",
       "    </tr>\n",
       "    <tr>\n",
       "      <th>2</th>\n",
       "      <td>Illinois</td>\n",
       "      <td>Big Ten</td>\n",
       "    </tr>\n",
       "    <tr>\n",
       "      <th>3</th>\n",
       "      <td>Iowa</td>\n",
       "      <td>Big Ten</td>\n",
       "    </tr>\n",
       "    <tr>\n",
       "      <th>4</th>\n",
       "      <td>Purdue</td>\n",
       "      <td>Big Ten</td>\n",
       "    </tr>\n",
       "    <tr>\n",
       "      <th>5</th>\n",
       "      <td>Ohio State</td>\n",
       "      <td>Big Ten</td>\n",
       "    </tr>\n",
       "    <tr>\n",
       "      <th>...</th>\n",
       "      <td>...</td>\n",
       "      <td>...</td>\n",
       "    </tr>\n",
       "    <tr>\n",
       "      <th>8</th>\n",
       "      <td>Ball State</td>\n",
       "      <td>MAC</td>\n",
       "    </tr>\n",
       "    <tr>\n",
       "      <th>9</th>\n",
       "      <td>Western Michigan</td>\n",
       "      <td>MAC</td>\n",
       "    </tr>\n",
       "    <tr>\n",
       "      <th>10</th>\n",
       "      <td>Eastern Michigan</td>\n",
       "      <td>MAC</td>\n",
       "    </tr>\n",
       "    <tr>\n",
       "      <th>11</th>\n",
       "      <td>Central Michigan</td>\n",
       "      <td>MAC</td>\n",
       "    </tr>\n",
       "    <tr>\n",
       "      <th>12</th>\n",
       "      <td>Northern Illinois</td>\n",
       "      <td>MAC</td>\n",
       "    </tr>\n",
       "  </tbody>\n",
       "</table>\n",
       "<p>359 rows × 2 columns</p>\n",
       "</div>"
      ],
      "text/plain": [
       "               School Conference\n",
       "1            Michigan    Big Ten\n",
       "2            Illinois    Big Ten\n",
       "3                Iowa    Big Ten\n",
       "4              Purdue    Big Ten\n",
       "5          Ohio State    Big Ten\n",
       "..                ...        ...\n",
       "8          Ball State        MAC\n",
       "9    Western Michigan        MAC\n",
       "10   Eastern Michigan        MAC\n",
       "11   Central Michigan        MAC\n",
       "12  Northern Illinois        MAC\n",
       "\n",
       "[359 rows x 2 columns]"
      ]
     },
     "execution_count": 134,
     "metadata": {},
     "output_type": "execute_result"
    }
   ],
   "source": [
    "all_teams"
   ]
  },
  {
   "cell_type": "code",
   "execution_count": null,
   "metadata": {},
   "outputs": [],
   "source": []
  }
 ],
 "metadata": {
  "interpreter": {
   "hash": "b0fa6594d8f4cbf19f97940f81e996739fb7646882a419484c72d19e05852a7e"
  },
  "kernelspec": {
   "display_name": "Python 3.9.9 64-bit",
   "language": "python",
   "name": "python3"
  },
  "language_info": {
   "codemirror_mode": {
    "name": "ipython",
    "version": 3
   },
   "file_extension": ".py",
   "mimetype": "text/x-python",
   "name": "python",
   "nbconvert_exporter": "python",
   "pygments_lexer": "ipython3",
   "version": "3.8.3"
  },
  "orig_nbformat": 4
 },
 "nbformat": 4,
 "nbformat_minor": 2
}
