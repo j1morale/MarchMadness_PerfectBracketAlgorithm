{
 "cells": [
  {
   "cell_type": "code",
   "execution_count": 2,
   "metadata": {},
   "outputs": [],
   "source": [
    "import pandas as pd\n",
    "import numpy as np\n",
    "import matplotlib as plt\n",
    "import seaborn as sns"
   ]
  },
  {
   "cell_type": "code",
   "execution_count": 25,
   "metadata": {},
   "outputs": [
    {
     "data": {
      "text/plain": [
       "Index(['Rk', 'School', 'G', 'Overall W', 'Overall L', 'W-L%', 'SRS', 'SOS',\n",
       "       'Overall W', 'Overall L', 'Overall W', 'Overall L', 'Overall W',\n",
       "       'Overall L', 'Tm.', 'Opp.', 'Pace', 'ORtg', 'FTr', '3PAr', 'TS%',\n",
       "       'TRB%', 'AST%', 'STL%', 'BLK%', 'eFG%', 'TOV%', 'ORB%', 'FT/FGA'],\n",
       "      dtype='object')"
      ]
     },
     "execution_count": 25,
     "metadata": {},
     "output_type": "execute_result"
    }
   ],
   "source": [
    "df_all = pd.read_html('https://www.sports-reference.com/cbb/seasons/2022-advanced-school-stats.html#adv_school_stats')\n",
    "all_teams_advanced_data = df_all[0]\n",
    "all_teams_advanced_data.columns = all_teams_advanced_data.columns.droplevel(0)\n",
    "all_teams_advanced_data = all_teams_advanced_data.dropna(axis=0, subset = ['School'])\n",
    "all_teams_advanced_data = all_teams_advanced_data.drop_duplicates()\n",
    "all_teams_advanced_data = all_teams_advanced_data.drop(columns = ['Unnamed: 8_level_1', 'Unnamed: 11_level_1', 'Unnamed: 14_level_1', 'Unnamed: 17_level_1', 'Unnamed: 20_level_1'\n",
    "])\n",
    "all_teams_advanced_data = all_teams_advanced_data.rename(columns= {all_teams_advanced_data.columns[3]:'Overall W', all_teams_advanced_data.columns[4]:'Overall L'})\n",
    "all_teams_advanced_data.columns"
   ]
  },
  {
   "cell_type": "code",
   "execution_count": null,
   "metadata": {},
   "outputs": [],
   "source": []
  }
 ],
 "metadata": {
  "interpreter": {
   "hash": "863ecc8dc9f016788a6e8fcb50f63530ec497090237ec5e127ddae7ed063a19e"
  },
  "kernelspec": {
   "display_name": "Python 3.8.3 64-bit ('base': conda)",
   "language": "python",
   "name": "python3"
  },
  "language_info": {
   "codemirror_mode": {
    "name": "ipython",
    "version": 3
   },
   "file_extension": ".py",
   "mimetype": "text/x-python",
   "name": "python",
   "nbconvert_exporter": "python",
   "pygments_lexer": "ipython3",
   "version": "3.8.3"
  },
  "orig_nbformat": 4
 },
 "nbformat": 4,
 "nbformat_minor": 2
}
